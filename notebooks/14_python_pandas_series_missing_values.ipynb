{
  "nbformat": 4,
  "nbformat_minor": 0,
  "metadata": {
    "colab": {
      "name": "14_python_pandas_series_missing_values.ipynb",
      "provenance": [],
      "collapsed_sections": [],
      "authorship_tag": "ABX9TyNzLYMEGGbgKfjBqMH9Zbbr",
      "include_colab_link": true
    },
    "kernelspec": {
      "name": "python3",
      "display_name": "Python 3"
    }
  },
  "cells": [
    {
      "cell_type": "markdown",
      "metadata": {
        "id": "view-in-github",
        "colab_type": "text"
      },
      "source": [
        "<a href=\"https://colab.research.google.com/github/ralsouza/data_visualization_with_python/blob/master/notebooks/14_python_pandas_series_missing_values.ipynb\" target=\"_parent\"><img src=\"https://colab.research.google.com/assets/colab-badge.svg\" alt=\"Open In Colab\"/></a>"
      ]
    },
    {
      "cell_type": "markdown",
      "metadata": {
        "id": "UJ2s8sjVM7Pe",
        "colab_type": "text"
      },
      "source": [
        "#Pandas Series"
      ]
    },
    {
      "cell_type": "markdown",
      "metadata": {
        "id": "vXYeH0OiNESY",
        "colab_type": "text"
      },
      "source": [
        "## NaN values (Not a Number)"
      ]
    },
    {
      "cell_type": "code",
      "metadata": {
        "id": "Z1w0QYO8MdrZ",
        "colab_type": "code",
        "colab": {}
      },
      "source": [
        "import pandas as pd\n",
        "import numpy as np"
      ],
      "execution_count": 0,
      "outputs": []
    },
    {
      "cell_type": "code",
      "metadata": {
        "id": "91SP_LI4NOWb",
        "colab_type": "code",
        "outputId": "973eff92-d36f-4c1b-eb9b-993aa66ff9e6",
        "colab": {
          "base_uri": "https://localhost:8080/",
          "height": 35
        }
      },
      "source": [
        "# Using Numpy\n",
        "arr_np = np.array([1,2,3,np.nan]); arr_np"
      ],
      "execution_count": 0,
      "outputs": [
        {
          "output_type": "execute_result",
          "data": {
            "text/plain": [
              "array([ 1.,  2.,  3., nan])"
            ]
          },
          "metadata": {
            "tags": []
          },
          "execution_count": 2
        }
      ]
    },
    {
      "cell_type": "code",
      "metadata": {
        "id": "Q2hnjfrmNmbS",
        "colab_type": "code",
        "outputId": "00d6ba7a-d6b3-4eca-e6a0-953414f19f9c",
        "colab": {
          "base_uri": "https://localhost:8080/",
          "height": 35
        }
      },
      "source": [
        "# Calculating the mean of arr_np\n",
        "# Numpy identifies the nan and calculates the result as nan\n",
        "arr_np.mean()"
      ],
      "execution_count": 0,
      "outputs": [
        {
          "output_type": "execute_result",
          "data": {
            "text/plain": [
              "nan"
            ]
          },
          "metadata": {
            "tags": []
          },
          "execution_count": 4
        }
      ]
    },
    {
      "cell_type": "code",
      "metadata": {
        "id": "BCjn-6UNN9jg",
        "colab_type": "code",
        "outputId": "08e5475f-ef96-4e58-8d79-ae89eced08b8",
        "colab": {
          "base_uri": "https://localhost:8080/",
          "height": 107
        }
      },
      "source": [
        "# Using Pandas with series\n",
        "arr_pd = pd.Series([1,2,3,np.nan]); arr_pd"
      ],
      "execution_count": 0,
      "outputs": [
        {
          "output_type": "execute_result",
          "data": {
            "text/plain": [
              "0    1.0\n",
              "1    2.0\n",
              "2    3.0\n",
              "3    NaN\n",
              "dtype: float64"
            ]
          },
          "metadata": {
            "tags": []
          },
          "execution_count": 5
        }
      ]
    },
    {
      "cell_type": "code",
      "metadata": {
        "id": "rAJzwqFFPIgU",
        "colab_type": "code",
        "outputId": "c89d0eb0-1685-4827-cad8-d0374a8327e2",
        "colab": {
          "base_uri": "https://localhost:8080/",
          "height": 35
        }
      },
      "source": [
        "# Calculating the mean of arr_pd\n",
        "# Pandas Series identifies the nan value and excludes it, but the mean doesn't consider the position in the mean calc \n",
        "arr_pd.mean()"
      ],
      "execution_count": 0,
      "outputs": [
        {
          "output_type": "execute_result",
          "data": {
            "text/plain": [
              "2.0"
            ]
          },
          "metadata": {
            "tags": []
          },
          "execution_count": 6
        }
      ]
    }
  ]
}