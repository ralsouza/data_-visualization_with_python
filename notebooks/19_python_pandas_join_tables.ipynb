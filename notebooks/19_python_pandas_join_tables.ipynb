{
  "nbformat": 4,
  "nbformat_minor": 0,
  "metadata": {
    "colab": {
      "name": "19_python_pandas_join_tables.ipynb",
      "provenance": [],
      "collapsed_sections": [],
      "authorship_tag": "ABX9TyMIEgxt0LaIp3ExRr6+VyUZ",
      "include_colab_link": true
    },
    "kernelspec": {
      "name": "python3",
      "display_name": "Python 3"
    }
  },
  "cells": [
    {
      "cell_type": "markdown",
      "metadata": {
        "id": "view-in-github",
        "colab_type": "text"
      },
      "source": [
        "<a href=\"https://colab.research.google.com/github/ralsouza/organizing_and_visualizing_data_python/blob/master/notebooks/19_python_pandas_join_tables.ipynb\" target=\"_parent\"><img src=\"https://colab.research.google.com/assets/colab-badge.svg\" alt=\"Open In Colab\"/></a>"
      ]
    },
    {
      "cell_type": "code",
      "metadata": {
        "id": "bJM9pHl7ehaf",
        "colab_type": "code",
        "colab": {}
      },
      "source": [
        "import pandas as pd"
      ],
      "execution_count": 0,
      "outputs": []
    },
    {
      "cell_type": "markdown",
      "metadata": {
        "id": "AGXSLdrteUAX",
        "colab_type": "text"
      },
      "source": [
        "# Data Creation"
      ]
    },
    {
      "cell_type": "code",
      "metadata": {
        "id": "BCd40gSyc-zf",
        "colab_type": "code",
        "outputId": "5e0afb45-dec0-4963-d475-b7095dc40242",
        "colab": {
          "base_uri": "https://localhost:8080/",
          "height": 204
        }
      },
      "source": [
        "# data1\n",
        "data1 = pd.DataFrame({\n",
        "    'discipline_id': ['1','2','3','4','5'],\n",
        "    'name': ['Bernardo','Alan','Mateus','Ivo','Gerson'],\n",
        "    'last_name': ['Anderson','Teixeira','Amoedo','Trindade','Vargas']})\n",
        "\n",
        "data1"
      ],
      "execution_count": 28,
      "outputs": [
        {
          "output_type": "execute_result",
          "data": {
            "text/html": [
              "<div>\n",
              "<style scoped>\n",
              "    .dataframe tbody tr th:only-of-type {\n",
              "        vertical-align: middle;\n",
              "    }\n",
              "\n",
              "    .dataframe tbody tr th {\n",
              "        vertical-align: top;\n",
              "    }\n",
              "\n",
              "    .dataframe thead th {\n",
              "        text-align: right;\n",
              "    }\n",
              "</style>\n",
              "<table border=\"1\" class=\"dataframe\">\n",
              "  <thead>\n",
              "    <tr style=\"text-align: right;\">\n",
              "      <th></th>\n",
              "      <th>discipline_id</th>\n",
              "      <th>name</th>\n",
              "      <th>last_name</th>\n",
              "    </tr>\n",
              "  </thead>\n",
              "  <tbody>\n",
              "    <tr>\n",
              "      <th>0</th>\n",
              "      <td>1</td>\n",
              "      <td>Bernardo</td>\n",
              "      <td>Anderson</td>\n",
              "    </tr>\n",
              "    <tr>\n",
              "      <th>1</th>\n",
              "      <td>2</td>\n",
              "      <td>Alan</td>\n",
              "      <td>Teixeira</td>\n",
              "    </tr>\n",
              "    <tr>\n",
              "      <th>2</th>\n",
              "      <td>3</td>\n",
              "      <td>Mateus</td>\n",
              "      <td>Amoedo</td>\n",
              "    </tr>\n",
              "    <tr>\n",
              "      <th>3</th>\n",
              "      <td>4</td>\n",
              "      <td>Ivo</td>\n",
              "      <td>Trindade</td>\n",
              "    </tr>\n",
              "    <tr>\n",
              "      <th>4</th>\n",
              "      <td>5</td>\n",
              "      <td>Gerson</td>\n",
              "      <td>Vargas</td>\n",
              "    </tr>\n",
              "  </tbody>\n",
              "</table>\n",
              "</div>"
            ],
            "text/plain": [
              "  discipline_id      name last_name\n",
              "0             1  Bernardo  Anderson\n",
              "1             2      Alan  Teixeira\n",
              "2             3    Mateus    Amoedo\n",
              "3             4       Ivo  Trindade\n",
              "4             5    Gerson    Vargas"
            ]
          },
          "metadata": {
            "tags": []
          },
          "execution_count": 28
        }
      ]
    },
    {
      "cell_type": "code",
      "metadata": {
        "id": "li0E0WwNgZ4V",
        "colab_type": "code",
        "outputId": "1e0353ff-5214-4b11-df55-9b645b040daf",
        "colab": {
          "base_uri": "https://localhost:8080/",
          "height": 204
        }
      },
      "source": [
        "# data2\n",
        "data2 = pd.DataFrame({\n",
        "    'discipline_id': ['1','2','3','4','5'],\n",
        "    'name': ['Roberto','Mariana','Ana','Marcos','Maria'],\n",
        "    'last_name': ['Sampaio','Fernandes','Arantes','Menezes','Martins']})\n",
        "\n",
        "data2"
      ],
      "execution_count": 29,
      "outputs": [
        {
          "output_type": "execute_result",
          "data": {
            "text/html": [
              "<div>\n",
              "<style scoped>\n",
              "    .dataframe tbody tr th:only-of-type {\n",
              "        vertical-align: middle;\n",
              "    }\n",
              "\n",
              "    .dataframe tbody tr th {\n",
              "        vertical-align: top;\n",
              "    }\n",
              "\n",
              "    .dataframe thead th {\n",
              "        text-align: right;\n",
              "    }\n",
              "</style>\n",
              "<table border=\"1\" class=\"dataframe\">\n",
              "  <thead>\n",
              "    <tr style=\"text-align: right;\">\n",
              "      <th></th>\n",
              "      <th>discipline_id</th>\n",
              "      <th>name</th>\n",
              "      <th>last_name</th>\n",
              "    </tr>\n",
              "  </thead>\n",
              "  <tbody>\n",
              "    <tr>\n",
              "      <th>0</th>\n",
              "      <td>1</td>\n",
              "      <td>Roberto</td>\n",
              "      <td>Sampaio</td>\n",
              "    </tr>\n",
              "    <tr>\n",
              "      <th>1</th>\n",
              "      <td>2</td>\n",
              "      <td>Mariana</td>\n",
              "      <td>Fernandes</td>\n",
              "    </tr>\n",
              "    <tr>\n",
              "      <th>2</th>\n",
              "      <td>3</td>\n",
              "      <td>Ana</td>\n",
              "      <td>Arantes</td>\n",
              "    </tr>\n",
              "    <tr>\n",
              "      <th>3</th>\n",
              "      <td>4</td>\n",
              "      <td>Marcos</td>\n",
              "      <td>Menezes</td>\n",
              "    </tr>\n",
              "    <tr>\n",
              "      <th>4</th>\n",
              "      <td>5</td>\n",
              "      <td>Maria</td>\n",
              "      <td>Martins</td>\n",
              "    </tr>\n",
              "  </tbody>\n",
              "</table>\n",
              "</div>"
            ],
            "text/plain": [
              "  discipline_id     name  last_name\n",
              "0             1  Roberto    Sampaio\n",
              "1             2  Mariana  Fernandes\n",
              "2             3      Ana    Arantes\n",
              "3             4   Marcos    Menezes\n",
              "4             5    Maria    Martins"
            ]
          },
          "metadata": {
            "tags": []
          },
          "execution_count": 29
        }
      ]
    },
    {
      "cell_type": "code",
      "metadata": {
        "id": "3jzJ8G5jhHgz",
        "colab_type": "code",
        "outputId": "10de46a8-1aac-4eae-cb25-4d5ceeb03179",
        "colab": {
          "base_uri": "https://localhost:8080/",
          "height": 390
        }
      },
      "source": [
        "# data3\n",
        "data3 = pd.DataFrame({\n",
        "    'discipline_id':['1','2','3','4','5','6','7','8','9','10','11'],\n",
        "    'test_id': [81,75,75,71,76,84,95,61,57,90,85]})\n",
        "\n",
        "data3"
      ],
      "execution_count": 30,
      "outputs": [
        {
          "output_type": "execute_result",
          "data": {
            "text/html": [
              "<div>\n",
              "<style scoped>\n",
              "    .dataframe tbody tr th:only-of-type {\n",
              "        vertical-align: middle;\n",
              "    }\n",
              "\n",
              "    .dataframe tbody tr th {\n",
              "        vertical-align: top;\n",
              "    }\n",
              "\n",
              "    .dataframe thead th {\n",
              "        text-align: right;\n",
              "    }\n",
              "</style>\n",
              "<table border=\"1\" class=\"dataframe\">\n",
              "  <thead>\n",
              "    <tr style=\"text-align: right;\">\n",
              "      <th></th>\n",
              "      <th>discipline_id</th>\n",
              "      <th>test_id</th>\n",
              "    </tr>\n",
              "  </thead>\n",
              "  <tbody>\n",
              "    <tr>\n",
              "      <th>0</th>\n",
              "      <td>1</td>\n",
              "      <td>81</td>\n",
              "    </tr>\n",
              "    <tr>\n",
              "      <th>1</th>\n",
              "      <td>2</td>\n",
              "      <td>75</td>\n",
              "    </tr>\n",
              "    <tr>\n",
              "      <th>2</th>\n",
              "      <td>3</td>\n",
              "      <td>75</td>\n",
              "    </tr>\n",
              "    <tr>\n",
              "      <th>3</th>\n",
              "      <td>4</td>\n",
              "      <td>71</td>\n",
              "    </tr>\n",
              "    <tr>\n",
              "      <th>4</th>\n",
              "      <td>5</td>\n",
              "      <td>76</td>\n",
              "    </tr>\n",
              "    <tr>\n",
              "      <th>5</th>\n",
              "      <td>6</td>\n",
              "      <td>84</td>\n",
              "    </tr>\n",
              "    <tr>\n",
              "      <th>6</th>\n",
              "      <td>7</td>\n",
              "      <td>95</td>\n",
              "    </tr>\n",
              "    <tr>\n",
              "      <th>7</th>\n",
              "      <td>8</td>\n",
              "      <td>61</td>\n",
              "    </tr>\n",
              "    <tr>\n",
              "      <th>8</th>\n",
              "      <td>9</td>\n",
              "      <td>57</td>\n",
              "    </tr>\n",
              "    <tr>\n",
              "      <th>9</th>\n",
              "      <td>10</td>\n",
              "      <td>90</td>\n",
              "    </tr>\n",
              "    <tr>\n",
              "      <th>10</th>\n",
              "      <td>11</td>\n",
              "      <td>85</td>\n",
              "    </tr>\n",
              "  </tbody>\n",
              "</table>\n",
              "</div>"
            ],
            "text/plain": [
              "   discipline_id  test_id\n",
              "0              1       81\n",
              "1              2       75\n",
              "2              3       75\n",
              "3              4       71\n",
              "4              5       76\n",
              "5              6       84\n",
              "6              7       95\n",
              "7              8       61\n",
              "8              9       57\n",
              "9             10       90\n",
              "10            11       85"
            ]
          },
          "metadata": {
            "tags": []
          },
          "execution_count": 30
        }
      ]
    },
    {
      "cell_type": "markdown",
      "metadata": {
        "id": "7ErhFkj-jmqm",
        "colab_type": "text"
      },
      "source": [
        "# Concating dataframes by rows"
      ]
    },
    {
      "cell_type": "code",
      "metadata": {
        "id": "NwgAmheZh0Cm",
        "colab_type": "code",
        "outputId": "579e3c0d-1e15-4a6c-ee27-636fa3423a73",
        "colab": {
          "base_uri": "https://localhost:8080/",
          "height": 359
        }
      },
      "source": [
        "# It was necessary to reprocess the index\n",
        "data_new = pd.concat([data1,data2]).reset_index(drop=True); data_new"
      ],
      "execution_count": 31,
      "outputs": [
        {
          "output_type": "execute_result",
          "data": {
            "text/html": [
              "<div>\n",
              "<style scoped>\n",
              "    .dataframe tbody tr th:only-of-type {\n",
              "        vertical-align: middle;\n",
              "    }\n",
              "\n",
              "    .dataframe tbody tr th {\n",
              "        vertical-align: top;\n",
              "    }\n",
              "\n",
              "    .dataframe thead th {\n",
              "        text-align: right;\n",
              "    }\n",
              "</style>\n",
              "<table border=\"1\" class=\"dataframe\">\n",
              "  <thead>\n",
              "    <tr style=\"text-align: right;\">\n",
              "      <th></th>\n",
              "      <th>discipline_id</th>\n",
              "      <th>name</th>\n",
              "      <th>last_name</th>\n",
              "    </tr>\n",
              "  </thead>\n",
              "  <tbody>\n",
              "    <tr>\n",
              "      <th>0</th>\n",
              "      <td>1</td>\n",
              "      <td>Bernardo</td>\n",
              "      <td>Anderson</td>\n",
              "    </tr>\n",
              "    <tr>\n",
              "      <th>1</th>\n",
              "      <td>2</td>\n",
              "      <td>Alan</td>\n",
              "      <td>Teixeira</td>\n",
              "    </tr>\n",
              "    <tr>\n",
              "      <th>2</th>\n",
              "      <td>3</td>\n",
              "      <td>Mateus</td>\n",
              "      <td>Amoedo</td>\n",
              "    </tr>\n",
              "    <tr>\n",
              "      <th>3</th>\n",
              "      <td>4</td>\n",
              "      <td>Ivo</td>\n",
              "      <td>Trindade</td>\n",
              "    </tr>\n",
              "    <tr>\n",
              "      <th>4</th>\n",
              "      <td>5</td>\n",
              "      <td>Gerson</td>\n",
              "      <td>Vargas</td>\n",
              "    </tr>\n",
              "    <tr>\n",
              "      <th>5</th>\n",
              "      <td>1</td>\n",
              "      <td>Roberto</td>\n",
              "      <td>Sampaio</td>\n",
              "    </tr>\n",
              "    <tr>\n",
              "      <th>6</th>\n",
              "      <td>2</td>\n",
              "      <td>Mariana</td>\n",
              "      <td>Fernandes</td>\n",
              "    </tr>\n",
              "    <tr>\n",
              "      <th>7</th>\n",
              "      <td>3</td>\n",
              "      <td>Ana</td>\n",
              "      <td>Arantes</td>\n",
              "    </tr>\n",
              "    <tr>\n",
              "      <th>8</th>\n",
              "      <td>4</td>\n",
              "      <td>Marcos</td>\n",
              "      <td>Menezes</td>\n",
              "    </tr>\n",
              "    <tr>\n",
              "      <th>9</th>\n",
              "      <td>5</td>\n",
              "      <td>Maria</td>\n",
              "      <td>Martins</td>\n",
              "    </tr>\n",
              "  </tbody>\n",
              "</table>\n",
              "</div>"
            ],
            "text/plain": [
              "  discipline_id      name  last_name\n",
              "0             1  Bernardo   Anderson\n",
              "1             2      Alan   Teixeira\n",
              "2             3    Mateus     Amoedo\n",
              "3             4       Ivo   Trindade\n",
              "4             5    Gerson     Vargas\n",
              "5             1   Roberto    Sampaio\n",
              "6             2   Mariana  Fernandes\n",
              "7             3       Ana    Arantes\n",
              "8             4    Marcos    Menezes\n",
              "9             5     Maria    Martins"
            ]
          },
          "metadata": {
            "tags": []
          },
          "execution_count": 31
        }
      ]
    },
    {
      "cell_type": "markdown",
      "metadata": {
        "id": "hmF74vSKlOT5",
        "colab_type": "text"
      },
      "source": [
        "# Concating dataframes by columns"
      ]
    },
    {
      "cell_type": "code",
      "metadata": {
        "id": "WBD3hgn0kcNW",
        "colab_type": "code",
        "outputId": "d28984c5-5d94-47b2-978d-2ac670b78a79",
        "colab": {
          "base_uri": "https://localhost:8080/",
          "height": 204
        }
      },
      "source": [
        "# 1. The join was by axis 1, that is, horizontally or by column\n",
        "# 2. Note the duplicated columns discipline_id, because de join. \n",
        "#    It can be resolved using pd.DataFrame.merge()\n",
        "pd.concat([data1,data2],axis=1)"
      ],
      "execution_count": 0,
      "outputs": [
        {
          "output_type": "execute_result",
          "data": {
            "text/html": [
              "<div>\n",
              "<style scoped>\n",
              "    .dataframe tbody tr th:only-of-type {\n",
              "        vertical-align: middle;\n",
              "    }\n",
              "\n",
              "    .dataframe tbody tr th {\n",
              "        vertical-align: top;\n",
              "    }\n",
              "\n",
              "    .dataframe thead th {\n",
              "        text-align: right;\n",
              "    }\n",
              "</style>\n",
              "<table border=\"1\" class=\"dataframe\">\n",
              "  <thead>\n",
              "    <tr style=\"text-align: right;\">\n",
              "      <th></th>\n",
              "      <th>discipline_id</th>\n",
              "      <th>name</th>\n",
              "      <th>last_name</th>\n",
              "      <th>discipline_id</th>\n",
              "      <th>name</th>\n",
              "      <th>last_name</th>\n",
              "    </tr>\n",
              "  </thead>\n",
              "  <tbody>\n",
              "    <tr>\n",
              "      <th>0</th>\n",
              "      <td>1</td>\n",
              "      <td>Bernardo</td>\n",
              "      <td>Anderson</td>\n",
              "      <td>1</td>\n",
              "      <td>Roberto</td>\n",
              "      <td>Sampaio</td>\n",
              "    </tr>\n",
              "    <tr>\n",
              "      <th>1</th>\n",
              "      <td>2</td>\n",
              "      <td>Alan</td>\n",
              "      <td>Teixeira</td>\n",
              "      <td>2</td>\n",
              "      <td>Mariana</td>\n",
              "      <td>Fernandes</td>\n",
              "    </tr>\n",
              "    <tr>\n",
              "      <th>2</th>\n",
              "      <td>3</td>\n",
              "      <td>Mateus</td>\n",
              "      <td>Amoedo</td>\n",
              "      <td>3</td>\n",
              "      <td>Ana</td>\n",
              "      <td>Arantes</td>\n",
              "    </tr>\n",
              "    <tr>\n",
              "      <th>3</th>\n",
              "      <td>4</td>\n",
              "      <td>Ivo</td>\n",
              "      <td>Trindade</td>\n",
              "      <td>4</td>\n",
              "      <td>Marcos</td>\n",
              "      <td>Menezes</td>\n",
              "    </tr>\n",
              "    <tr>\n",
              "      <th>4</th>\n",
              "      <td>5</td>\n",
              "      <td>Gerson</td>\n",
              "      <td>Vargas</td>\n",
              "      <td>5</td>\n",
              "      <td>Maria</td>\n",
              "      <td>Martins</td>\n",
              "    </tr>\n",
              "  </tbody>\n",
              "</table>\n",
              "</div>"
            ],
            "text/plain": [
              "  discipline_id      name last_name discipline_id     name  last_name\n",
              "0             1  Bernardo  Anderson             1  Roberto    Sampaio\n",
              "1             2      Alan  Teixeira             2  Mariana  Fernandes\n",
              "2             3    Mateus    Amoedo             3      Ana    Arantes\n",
              "3             4       Ivo  Trindade             4   Marcos    Menezes\n",
              "4             5    Gerson    Vargas             5    Maria    Martins"
            ]
          },
          "metadata": {
            "tags": []
          },
          "execution_count": 17
        }
      ]
    },
    {
      "cell_type": "markdown",
      "metadata": {
        "id": "vIUAOmWpn_lK",
        "colab_type": "text"
      },
      "source": [
        "# Joining dataframes by one id column"
      ]
    },
    {
      "cell_type": "code",
      "metadata": {
        "id": "JuSW-47Fohkm",
        "colab_type": "code",
        "outputId": "e6f96d37-ef54-42a8-93fe-330c0c2032b6",
        "colab": {
          "base_uri": "https://localhost:8080/",
          "height": 359
        }
      },
      "source": [
        "pd.merge(data_new,data3,on='discipline_id')"
      ],
      "execution_count": 32,
      "outputs": [
        {
          "output_type": "execute_result",
          "data": {
            "text/html": [
              "<div>\n",
              "<style scoped>\n",
              "    .dataframe tbody tr th:only-of-type {\n",
              "        vertical-align: middle;\n",
              "    }\n",
              "\n",
              "    .dataframe tbody tr th {\n",
              "        vertical-align: top;\n",
              "    }\n",
              "\n",
              "    .dataframe thead th {\n",
              "        text-align: right;\n",
              "    }\n",
              "</style>\n",
              "<table border=\"1\" class=\"dataframe\">\n",
              "  <thead>\n",
              "    <tr style=\"text-align: right;\">\n",
              "      <th></th>\n",
              "      <th>discipline_id</th>\n",
              "      <th>name</th>\n",
              "      <th>last_name</th>\n",
              "      <th>test_id</th>\n",
              "    </tr>\n",
              "  </thead>\n",
              "  <tbody>\n",
              "    <tr>\n",
              "      <th>0</th>\n",
              "      <td>1</td>\n",
              "      <td>Bernardo</td>\n",
              "      <td>Anderson</td>\n",
              "      <td>81</td>\n",
              "    </tr>\n",
              "    <tr>\n",
              "      <th>1</th>\n",
              "      <td>1</td>\n",
              "      <td>Roberto</td>\n",
              "      <td>Sampaio</td>\n",
              "      <td>81</td>\n",
              "    </tr>\n",
              "    <tr>\n",
              "      <th>2</th>\n",
              "      <td>2</td>\n",
              "      <td>Alan</td>\n",
              "      <td>Teixeira</td>\n",
              "      <td>75</td>\n",
              "    </tr>\n",
              "    <tr>\n",
              "      <th>3</th>\n",
              "      <td>2</td>\n",
              "      <td>Mariana</td>\n",
              "      <td>Fernandes</td>\n",
              "      <td>75</td>\n",
              "    </tr>\n",
              "    <tr>\n",
              "      <th>4</th>\n",
              "      <td>3</td>\n",
              "      <td>Mateus</td>\n",
              "      <td>Amoedo</td>\n",
              "      <td>75</td>\n",
              "    </tr>\n",
              "    <tr>\n",
              "      <th>5</th>\n",
              "      <td>3</td>\n",
              "      <td>Ana</td>\n",
              "      <td>Arantes</td>\n",
              "      <td>75</td>\n",
              "    </tr>\n",
              "    <tr>\n",
              "      <th>6</th>\n",
              "      <td>4</td>\n",
              "      <td>Ivo</td>\n",
              "      <td>Trindade</td>\n",
              "      <td>71</td>\n",
              "    </tr>\n",
              "    <tr>\n",
              "      <th>7</th>\n",
              "      <td>4</td>\n",
              "      <td>Marcos</td>\n",
              "      <td>Menezes</td>\n",
              "      <td>71</td>\n",
              "    </tr>\n",
              "    <tr>\n",
              "      <th>8</th>\n",
              "      <td>5</td>\n",
              "      <td>Gerson</td>\n",
              "      <td>Vargas</td>\n",
              "      <td>76</td>\n",
              "    </tr>\n",
              "    <tr>\n",
              "      <th>9</th>\n",
              "      <td>5</td>\n",
              "      <td>Maria</td>\n",
              "      <td>Martins</td>\n",
              "      <td>76</td>\n",
              "    </tr>\n",
              "  </tbody>\n",
              "</table>\n",
              "</div>"
            ],
            "text/plain": [
              "  discipline_id      name  last_name  test_id\n",
              "0             1  Bernardo   Anderson       81\n",
              "1             1   Roberto    Sampaio       81\n",
              "2             2      Alan   Teixeira       75\n",
              "3             2   Mariana  Fernandes       75\n",
              "4             3    Mateus     Amoedo       75\n",
              "5             3       Ana    Arantes       75\n",
              "6             4       Ivo   Trindade       71\n",
              "7             4    Marcos    Menezes       71\n",
              "8             5    Gerson     Vargas       76\n",
              "9             5     Maria    Martins       76"
            ]
          },
          "metadata": {
            "tags": []
          },
          "execution_count": 32
        }
      ]
    },
    {
      "cell_type": "markdown",
      "metadata": {
        "id": "-fOGOsaHqTVp",
        "colab_type": "text"
      },
      "source": [
        "# Outer Join"
      ]
    },
    {
      "cell_type": "code",
      "metadata": {
        "id": "edeu-mzNqtEk",
        "colab_type": "code",
        "colab": {
          "base_uri": "https://localhost:8080/",
          "height": 204
        },
        "outputId": "db1e10b5-0a23-49c8-eb4d-15cb9349cbdd"
      },
      "source": [
        "pd.merge(data1,data2,on='discipline_id',how='outer')"
      ],
      "execution_count": 33,
      "outputs": [
        {
          "output_type": "execute_result",
          "data": {
            "text/html": [
              "<div>\n",
              "<style scoped>\n",
              "    .dataframe tbody tr th:only-of-type {\n",
              "        vertical-align: middle;\n",
              "    }\n",
              "\n",
              "    .dataframe tbody tr th {\n",
              "        vertical-align: top;\n",
              "    }\n",
              "\n",
              "    .dataframe thead th {\n",
              "        text-align: right;\n",
              "    }\n",
              "</style>\n",
              "<table border=\"1\" class=\"dataframe\">\n",
              "  <thead>\n",
              "    <tr style=\"text-align: right;\">\n",
              "      <th></th>\n",
              "      <th>discipline_id</th>\n",
              "      <th>name_x</th>\n",
              "      <th>last_name_x</th>\n",
              "      <th>name_y</th>\n",
              "      <th>last_name_y</th>\n",
              "    </tr>\n",
              "  </thead>\n",
              "  <tbody>\n",
              "    <tr>\n",
              "      <th>0</th>\n",
              "      <td>1</td>\n",
              "      <td>Bernardo</td>\n",
              "      <td>Anderson</td>\n",
              "      <td>Roberto</td>\n",
              "      <td>Sampaio</td>\n",
              "    </tr>\n",
              "    <tr>\n",
              "      <th>1</th>\n",
              "      <td>2</td>\n",
              "      <td>Alan</td>\n",
              "      <td>Teixeira</td>\n",
              "      <td>Mariana</td>\n",
              "      <td>Fernandes</td>\n",
              "    </tr>\n",
              "    <tr>\n",
              "      <th>2</th>\n",
              "      <td>3</td>\n",
              "      <td>Mateus</td>\n",
              "      <td>Amoedo</td>\n",
              "      <td>Ana</td>\n",
              "      <td>Arantes</td>\n",
              "    </tr>\n",
              "    <tr>\n",
              "      <th>3</th>\n",
              "      <td>4</td>\n",
              "      <td>Ivo</td>\n",
              "      <td>Trindade</td>\n",
              "      <td>Marcos</td>\n",
              "      <td>Menezes</td>\n",
              "    </tr>\n",
              "    <tr>\n",
              "      <th>4</th>\n",
              "      <td>5</td>\n",
              "      <td>Gerson</td>\n",
              "      <td>Vargas</td>\n",
              "      <td>Maria</td>\n",
              "      <td>Martins</td>\n",
              "    </tr>\n",
              "  </tbody>\n",
              "</table>\n",
              "</div>"
            ],
            "text/plain": [
              "  discipline_id    name_x last_name_x   name_y last_name_y\n",
              "0             1  Bernardo    Anderson  Roberto     Sampaio\n",
              "1             2      Alan    Teixeira  Mariana   Fernandes\n",
              "2             3    Mateus      Amoedo      Ana     Arantes\n",
              "3             4       Ivo    Trindade   Marcos     Menezes\n",
              "4             5    Gerson      Vargas    Maria     Martins"
            ]
          },
          "metadata": {
            "tags": []
          },
          "execution_count": 33
        }
      ]
    },
    {
      "cell_type": "markdown",
      "metadata": {
        "id": "Cr_lF0cRrOfU",
        "colab_type": "text"
      },
      "source": [
        "# Inner Join"
      ]
    },
    {
      "cell_type": "code",
      "metadata": {
        "id": "2vz3Kr6jrPwz",
        "colab_type": "code",
        "colab": {
          "base_uri": "https://localhost:8080/",
          "height": 204
        },
        "outputId": "00589f3a-391e-4ac9-e94d-de2be61ed24d"
      },
      "source": [
        "pd.merge(data1,data2,on='discipline_id',how='inner')"
      ],
      "execution_count": 36,
      "outputs": [
        {
          "output_type": "execute_result",
          "data": {
            "text/html": [
              "<div>\n",
              "<style scoped>\n",
              "    .dataframe tbody tr th:only-of-type {\n",
              "        vertical-align: middle;\n",
              "    }\n",
              "\n",
              "    .dataframe tbody tr th {\n",
              "        vertical-align: top;\n",
              "    }\n",
              "\n",
              "    .dataframe thead th {\n",
              "        text-align: right;\n",
              "    }\n",
              "</style>\n",
              "<table border=\"1\" class=\"dataframe\">\n",
              "  <thead>\n",
              "    <tr style=\"text-align: right;\">\n",
              "      <th></th>\n",
              "      <th>discipline_id</th>\n",
              "      <th>name_x</th>\n",
              "      <th>last_name_x</th>\n",
              "      <th>name_y</th>\n",
              "      <th>last_name_y</th>\n",
              "    </tr>\n",
              "  </thead>\n",
              "  <tbody>\n",
              "    <tr>\n",
              "      <th>0</th>\n",
              "      <td>1</td>\n",
              "      <td>Bernardo</td>\n",
              "      <td>Anderson</td>\n",
              "      <td>Roberto</td>\n",
              "      <td>Sampaio</td>\n",
              "    </tr>\n",
              "    <tr>\n",
              "      <th>1</th>\n",
              "      <td>2</td>\n",
              "      <td>Alan</td>\n",
              "      <td>Teixeira</td>\n",
              "      <td>Mariana</td>\n",
              "      <td>Fernandes</td>\n",
              "    </tr>\n",
              "    <tr>\n",
              "      <th>2</th>\n",
              "      <td>3</td>\n",
              "      <td>Mateus</td>\n",
              "      <td>Amoedo</td>\n",
              "      <td>Ana</td>\n",
              "      <td>Arantes</td>\n",
              "    </tr>\n",
              "    <tr>\n",
              "      <th>3</th>\n",
              "      <td>4</td>\n",
              "      <td>Ivo</td>\n",
              "      <td>Trindade</td>\n",
              "      <td>Marcos</td>\n",
              "      <td>Menezes</td>\n",
              "    </tr>\n",
              "    <tr>\n",
              "      <th>4</th>\n",
              "      <td>5</td>\n",
              "      <td>Gerson</td>\n",
              "      <td>Vargas</td>\n",
              "      <td>Maria</td>\n",
              "      <td>Martins</td>\n",
              "    </tr>\n",
              "  </tbody>\n",
              "</table>\n",
              "</div>"
            ],
            "text/plain": [
              "  discipline_id    name_x last_name_x   name_y last_name_y\n",
              "0             1  Bernardo    Anderson  Roberto     Sampaio\n",
              "1             2      Alan    Teixeira  Mariana   Fernandes\n",
              "2             3    Mateus      Amoedo      Ana     Arantes\n",
              "3             4       Ivo    Trindade   Marcos     Menezes\n",
              "4             5    Gerson      Vargas    Maria     Martins"
            ]
          },
          "metadata": {
            "tags": []
          },
          "execution_count": 36
        }
      ]
    },
    {
      "cell_type": "markdown",
      "metadata": {
        "id": "jMyVmgwgrWkm",
        "colab_type": "text"
      },
      "source": [
        "# Left Join"
      ]
    },
    {
      "cell_type": "code",
      "metadata": {
        "id": "ISNEFZFHreel",
        "colab_type": "code",
        "colab": {
          "base_uri": "https://localhost:8080/",
          "height": 204
        },
        "outputId": "25577917-55c0-4869-faba-bfa39fe61855"
      },
      "source": [
        "pd.merge(data1,data2,on='discipline_id',how='left')"
      ],
      "execution_count": 37,
      "outputs": [
        {
          "output_type": "execute_result",
          "data": {
            "text/html": [
              "<div>\n",
              "<style scoped>\n",
              "    .dataframe tbody tr th:only-of-type {\n",
              "        vertical-align: middle;\n",
              "    }\n",
              "\n",
              "    .dataframe tbody tr th {\n",
              "        vertical-align: top;\n",
              "    }\n",
              "\n",
              "    .dataframe thead th {\n",
              "        text-align: right;\n",
              "    }\n",
              "</style>\n",
              "<table border=\"1\" class=\"dataframe\">\n",
              "  <thead>\n",
              "    <tr style=\"text-align: right;\">\n",
              "      <th></th>\n",
              "      <th>discipline_id</th>\n",
              "      <th>name_x</th>\n",
              "      <th>last_name_x</th>\n",
              "      <th>name_y</th>\n",
              "      <th>last_name_y</th>\n",
              "    </tr>\n",
              "  </thead>\n",
              "  <tbody>\n",
              "    <tr>\n",
              "      <th>0</th>\n",
              "      <td>1</td>\n",
              "      <td>Bernardo</td>\n",
              "      <td>Anderson</td>\n",
              "      <td>Roberto</td>\n",
              "      <td>Sampaio</td>\n",
              "    </tr>\n",
              "    <tr>\n",
              "      <th>1</th>\n",
              "      <td>2</td>\n",
              "      <td>Alan</td>\n",
              "      <td>Teixeira</td>\n",
              "      <td>Mariana</td>\n",
              "      <td>Fernandes</td>\n",
              "    </tr>\n",
              "    <tr>\n",
              "      <th>2</th>\n",
              "      <td>3</td>\n",
              "      <td>Mateus</td>\n",
              "      <td>Amoedo</td>\n",
              "      <td>Ana</td>\n",
              "      <td>Arantes</td>\n",
              "    </tr>\n",
              "    <tr>\n",
              "      <th>3</th>\n",
              "      <td>4</td>\n",
              "      <td>Ivo</td>\n",
              "      <td>Trindade</td>\n",
              "      <td>Marcos</td>\n",
              "      <td>Menezes</td>\n",
              "    </tr>\n",
              "    <tr>\n",
              "      <th>4</th>\n",
              "      <td>5</td>\n",
              "      <td>Gerson</td>\n",
              "      <td>Vargas</td>\n",
              "      <td>Maria</td>\n",
              "      <td>Martins</td>\n",
              "    </tr>\n",
              "  </tbody>\n",
              "</table>\n",
              "</div>"
            ],
            "text/plain": [
              "  discipline_id    name_x last_name_x   name_y last_name_y\n",
              "0             1  Bernardo    Anderson  Roberto     Sampaio\n",
              "1             2      Alan    Teixeira  Mariana   Fernandes\n",
              "2             3    Mateus      Amoedo      Ana     Arantes\n",
              "3             4       Ivo    Trindade   Marcos     Menezes\n",
              "4             5    Gerson      Vargas    Maria     Martins"
            ]
          },
          "metadata": {
            "tags": []
          },
          "execution_count": 37
        }
      ]
    },
    {
      "cell_type": "markdown",
      "metadata": {
        "id": "QTRrIalVroGf",
        "colab_type": "text"
      },
      "source": [
        "# Right Join"
      ]
    },
    {
      "cell_type": "code",
      "metadata": {
        "id": "vdcToIfmrpnN",
        "colab_type": "code",
        "colab": {
          "base_uri": "https://localhost:8080/",
          "height": 204
        },
        "outputId": "1794b0d6-1c39-4aa3-9c66-875a7c788677"
      },
      "source": [
        "pd.merge(data1,data2,on='discipline_id',how='right')"
      ],
      "execution_count": 38,
      "outputs": [
        {
          "output_type": "execute_result",
          "data": {
            "text/html": [
              "<div>\n",
              "<style scoped>\n",
              "    .dataframe tbody tr th:only-of-type {\n",
              "        vertical-align: middle;\n",
              "    }\n",
              "\n",
              "    .dataframe tbody tr th {\n",
              "        vertical-align: top;\n",
              "    }\n",
              "\n",
              "    .dataframe thead th {\n",
              "        text-align: right;\n",
              "    }\n",
              "</style>\n",
              "<table border=\"1\" class=\"dataframe\">\n",
              "  <thead>\n",
              "    <tr style=\"text-align: right;\">\n",
              "      <th></th>\n",
              "      <th>discipline_id</th>\n",
              "      <th>name_x</th>\n",
              "      <th>last_name_x</th>\n",
              "      <th>name_y</th>\n",
              "      <th>last_name_y</th>\n",
              "    </tr>\n",
              "  </thead>\n",
              "  <tbody>\n",
              "    <tr>\n",
              "      <th>0</th>\n",
              "      <td>1</td>\n",
              "      <td>Bernardo</td>\n",
              "      <td>Anderson</td>\n",
              "      <td>Roberto</td>\n",
              "      <td>Sampaio</td>\n",
              "    </tr>\n",
              "    <tr>\n",
              "      <th>1</th>\n",
              "      <td>2</td>\n",
              "      <td>Alan</td>\n",
              "      <td>Teixeira</td>\n",
              "      <td>Mariana</td>\n",
              "      <td>Fernandes</td>\n",
              "    </tr>\n",
              "    <tr>\n",
              "      <th>2</th>\n",
              "      <td>3</td>\n",
              "      <td>Mateus</td>\n",
              "      <td>Amoedo</td>\n",
              "      <td>Ana</td>\n",
              "      <td>Arantes</td>\n",
              "    </tr>\n",
              "    <tr>\n",
              "      <th>3</th>\n",
              "      <td>4</td>\n",
              "      <td>Ivo</td>\n",
              "      <td>Trindade</td>\n",
              "      <td>Marcos</td>\n",
              "      <td>Menezes</td>\n",
              "    </tr>\n",
              "    <tr>\n",
              "      <th>4</th>\n",
              "      <td>5</td>\n",
              "      <td>Gerson</td>\n",
              "      <td>Vargas</td>\n",
              "      <td>Maria</td>\n",
              "      <td>Martins</td>\n",
              "    </tr>\n",
              "  </tbody>\n",
              "</table>\n",
              "</div>"
            ],
            "text/plain": [
              "  discipline_id    name_x last_name_x   name_y last_name_y\n",
              "0             1  Bernardo    Anderson  Roberto     Sampaio\n",
              "1             2      Alan    Teixeira  Mariana   Fernandes\n",
              "2             3    Mateus      Amoedo      Ana     Arantes\n",
              "3             4       Ivo    Trindade   Marcos     Menezes\n",
              "4             5    Gerson      Vargas    Maria     Martins"
            ]
          },
          "metadata": {
            "tags": []
          },
          "execution_count": 38
        }
      ]
    },
    {
      "cell_type": "markdown",
      "metadata": {
        "id": "aDyGg5Mjr1YM",
        "colab_type": "text"
      },
      "source": [
        "# Adding Suffixes"
      ]
    },
    {
      "cell_type": "code",
      "metadata": {
        "id": "1wnCB6VAr3jD",
        "colab_type": "code",
        "colab": {
          "base_uri": "https://localhost:8080/",
          "height": 204
        },
        "outputId": "66c3dffe-b805-44c0-c9b3-84358f68b547"
      },
      "source": [
        "pd.merge(data1,data2,on='discipline_id',how='left', suffixes=('_left','_right'))"
      ],
      "execution_count": 40,
      "outputs": [
        {
          "output_type": "execute_result",
          "data": {
            "text/html": [
              "<div>\n",
              "<style scoped>\n",
              "    .dataframe tbody tr th:only-of-type {\n",
              "        vertical-align: middle;\n",
              "    }\n",
              "\n",
              "    .dataframe tbody tr th {\n",
              "        vertical-align: top;\n",
              "    }\n",
              "\n",
              "    .dataframe thead th {\n",
              "        text-align: right;\n",
              "    }\n",
              "</style>\n",
              "<table border=\"1\" class=\"dataframe\">\n",
              "  <thead>\n",
              "    <tr style=\"text-align: right;\">\n",
              "      <th></th>\n",
              "      <th>discipline_id</th>\n",
              "      <th>name_left</th>\n",
              "      <th>last_name_left</th>\n",
              "      <th>name_right</th>\n",
              "      <th>last_name_right</th>\n",
              "    </tr>\n",
              "  </thead>\n",
              "  <tbody>\n",
              "    <tr>\n",
              "      <th>0</th>\n",
              "      <td>1</td>\n",
              "      <td>Bernardo</td>\n",
              "      <td>Anderson</td>\n",
              "      <td>Roberto</td>\n",
              "      <td>Sampaio</td>\n",
              "    </tr>\n",
              "    <tr>\n",
              "      <th>1</th>\n",
              "      <td>2</td>\n",
              "      <td>Alan</td>\n",
              "      <td>Teixeira</td>\n",
              "      <td>Mariana</td>\n",
              "      <td>Fernandes</td>\n",
              "    </tr>\n",
              "    <tr>\n",
              "      <th>2</th>\n",
              "      <td>3</td>\n",
              "      <td>Mateus</td>\n",
              "      <td>Amoedo</td>\n",
              "      <td>Ana</td>\n",
              "      <td>Arantes</td>\n",
              "    </tr>\n",
              "    <tr>\n",
              "      <th>3</th>\n",
              "      <td>4</td>\n",
              "      <td>Ivo</td>\n",
              "      <td>Trindade</td>\n",
              "      <td>Marcos</td>\n",
              "      <td>Menezes</td>\n",
              "    </tr>\n",
              "    <tr>\n",
              "      <th>4</th>\n",
              "      <td>5</td>\n",
              "      <td>Gerson</td>\n",
              "      <td>Vargas</td>\n",
              "      <td>Maria</td>\n",
              "      <td>Martins</td>\n",
              "    </tr>\n",
              "  </tbody>\n",
              "</table>\n",
              "</div>"
            ],
            "text/plain": [
              "  discipline_id name_left last_name_left name_right last_name_right\n",
              "0             1  Bernardo       Anderson    Roberto         Sampaio\n",
              "1             2      Alan       Teixeira    Mariana       Fernandes\n",
              "2             3    Mateus         Amoedo        Ana         Arantes\n",
              "3             4       Ivo       Trindade     Marcos         Menezes\n",
              "4             5    Gerson         Vargas      Maria         Martins"
            ]
          },
          "metadata": {
            "tags": []
          },
          "execution_count": 40
        }
      ]
    },
    {
      "cell_type": "markdown",
      "metadata": {
        "id": "3vXM9WqmsMHn",
        "colab_type": "text"
      },
      "source": [
        "# Join based in indexes\n"
      ]
    },
    {
      "cell_type": "code",
      "metadata": {
        "id": "nXnN9Z7nsO5h",
        "colab_type": "code",
        "colab": {
          "base_uri": "https://localhost:8080/",
          "height": 204
        },
        "outputId": "a2606e54-064d-4dfe-d5b9-081e43d079a3"
      },
      "source": [
        "pd.merge(data1,data2,right_index=True,left_index=True)"
      ],
      "execution_count": 41,
      "outputs": [
        {
          "output_type": "execute_result",
          "data": {
            "text/html": [
              "<div>\n",
              "<style scoped>\n",
              "    .dataframe tbody tr th:only-of-type {\n",
              "        vertical-align: middle;\n",
              "    }\n",
              "\n",
              "    .dataframe tbody tr th {\n",
              "        vertical-align: top;\n",
              "    }\n",
              "\n",
              "    .dataframe thead th {\n",
              "        text-align: right;\n",
              "    }\n",
              "</style>\n",
              "<table border=\"1\" class=\"dataframe\">\n",
              "  <thead>\n",
              "    <tr style=\"text-align: right;\">\n",
              "      <th></th>\n",
              "      <th>discipline_id_x</th>\n",
              "      <th>name_x</th>\n",
              "      <th>last_name_x</th>\n",
              "      <th>discipline_id_y</th>\n",
              "      <th>name_y</th>\n",
              "      <th>last_name_y</th>\n",
              "    </tr>\n",
              "  </thead>\n",
              "  <tbody>\n",
              "    <tr>\n",
              "      <th>0</th>\n",
              "      <td>1</td>\n",
              "      <td>Bernardo</td>\n",
              "      <td>Anderson</td>\n",
              "      <td>1</td>\n",
              "      <td>Roberto</td>\n",
              "      <td>Sampaio</td>\n",
              "    </tr>\n",
              "    <tr>\n",
              "      <th>1</th>\n",
              "      <td>2</td>\n",
              "      <td>Alan</td>\n",
              "      <td>Teixeira</td>\n",
              "      <td>2</td>\n",
              "      <td>Mariana</td>\n",
              "      <td>Fernandes</td>\n",
              "    </tr>\n",
              "    <tr>\n",
              "      <th>2</th>\n",
              "      <td>3</td>\n",
              "      <td>Mateus</td>\n",
              "      <td>Amoedo</td>\n",
              "      <td>3</td>\n",
              "      <td>Ana</td>\n",
              "      <td>Arantes</td>\n",
              "    </tr>\n",
              "    <tr>\n",
              "      <th>3</th>\n",
              "      <td>4</td>\n",
              "      <td>Ivo</td>\n",
              "      <td>Trindade</td>\n",
              "      <td>4</td>\n",
              "      <td>Marcos</td>\n",
              "      <td>Menezes</td>\n",
              "    </tr>\n",
              "    <tr>\n",
              "      <th>4</th>\n",
              "      <td>5</td>\n",
              "      <td>Gerson</td>\n",
              "      <td>Vargas</td>\n",
              "      <td>5</td>\n",
              "      <td>Maria</td>\n",
              "      <td>Martins</td>\n",
              "    </tr>\n",
              "  </tbody>\n",
              "</table>\n",
              "</div>"
            ],
            "text/plain": [
              "  discipline_id_x    name_x last_name_x discipline_id_y   name_y last_name_y\n",
              "0               1  Bernardo    Anderson               1  Roberto     Sampaio\n",
              "1               2      Alan    Teixeira               2  Mariana   Fernandes\n",
              "2               3    Mateus      Amoedo               3      Ana     Arantes\n",
              "3               4       Ivo    Trindade               4   Marcos     Menezes\n",
              "4               5    Gerson      Vargas               5    Maria     Martins"
            ]
          },
          "metadata": {
            "tags": []
          },
          "execution_count": 41
        }
      ]
    }
  ]
}