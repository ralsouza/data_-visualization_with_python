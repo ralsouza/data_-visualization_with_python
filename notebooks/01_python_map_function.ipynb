{
  "nbformat": 4,
  "nbformat_minor": 0,
  "metadata": {
    "colab": {
      "name": "01_python_map_function.ipynb",
      "provenance": [],
      "collapsed_sections": [],
      "authorship_tag": "ABX9TyMVvg/suCM9/F14oowAcmfT",
      "include_colab_link": true
    },
    "kernelspec": {
      "name": "python3",
      "display_name": "Python 3"
    }
  },
  "cells": [
    {
      "cell_type": "markdown",
      "metadata": {
        "id": "view-in-github",
        "colab_type": "text"
      },
      "source": [
        "<a href=\"https://colab.research.google.com/github/ralsouza/data_visualization_with_python/blob/master/notebooks/01_python_map_function.ipynb\" target=\"_parent\"><img src=\"https://colab.research.google.com/assets/colab-badge.svg\" alt=\"Open In Colab\"/></a>"
      ]
    },
    {
      "cell_type": "markdown",
      "metadata": {
        "id": "r61VzBmmUJvt",
        "colab_type": "text"
      },
      "source": [
        "# map()\n",
        "This function does basically the mapping of an value to other, almost a Python dictinary. This is a functional programming concept, but can be useful in certain circumstances. This concept is fundamental to MapReduce programming, popular in data technologies like Big Data, Hadoop and Spark."
      ]
    },
    {
      "cell_type": "code",
      "metadata": {
        "id": "6V5iIfSJMCr-",
        "colab_type": "code",
        "colab": {}
      },
      "source": [
        "# Define an array with the built-in function range()\n",
        "arr1 = range(0,15)"
      ],
      "execution_count": 0,
      "outputs": []
    },
    {
      "cell_type": "code",
      "metadata": {
        "id": "fcTVIPtJa4-3",
        "colab_type": "code",
        "colab": {
          "base_uri": "https://localhost:8080/",
          "height": 34
        },
        "outputId": "d2888768-1851-405c-8209-2294365e4c1e"
      },
      "source": [
        "print(arr1)"
      ],
      "execution_count": 2,
      "outputs": [
        {
          "output_type": "stream",
          "text": [
            "range(0, 15)\n"
          ],
          "name": "stdout"
        }
      ]
    },
    {
      "cell_type": "code",
      "metadata": {
        "id": "T1at4Jnea9T6",
        "colab_type": "code",
        "colab": {
          "base_uri": "https://localhost:8080/",
          "height": 34
        },
        "outputId": "a0f64652-4684-4ed6-c073-56dfe94b0a0e"
      },
      "source": [
        "type(arr1)"
      ],
      "execution_count": 3,
      "outputs": [
        {
          "output_type": "execute_result",
          "data": {
            "text/plain": [
              "range"
            ]
          },
          "metadata": {
            "tags": []
          },
          "execution_count": 3
        }
      ]
    },
    {
      "cell_type": "code",
      "metadata": {
        "id": "R2ujfCz6a_3U",
        "colab_type": "code",
        "colab": {}
      },
      "source": [
        "# Make a simple function to elevate a number to cube\n",
        "def cube(num):\n",
        "  return num ** 3"
      ],
      "execution_count": 0,
      "outputs": []
    },
    {
      "cell_type": "code",
      "metadata": {
        "id": "Zh7IzZJAbhxK",
        "colab_type": "code",
        "colab": {
          "base_uri": "https://localhost:8080/",
          "height": 272
        },
        "outputId": "cf4c2f78-04b1-4ef4-8474-7d803f4e6f08"
      },
      "source": [
        "# Elevating each values with a for loop\n",
        "for element in arr1:\n",
        "  print(cube(element))"
      ],
      "execution_count": 5,
      "outputs": [
        {
          "output_type": "stream",
          "text": [
            "0\n",
            "1\n",
            "8\n",
            "27\n",
            "64\n",
            "125\n",
            "216\n",
            "343\n",
            "512\n",
            "729\n",
            "1000\n",
            "1331\n",
            "1728\n",
            "2197\n",
            "2744\n"
          ],
          "name": "stdout"
        }
      ]
    },
    {
      "cell_type": "code",
      "metadata": {
        "id": "3HlipIaEb5Y3",
        "colab_type": "code",
        "colab": {}
      },
      "source": [
        "# Now using map() function, this function is faster than the traditional for\n",
        "list_map_func = map(cube,arr1)"
      ],
      "execution_count": 0,
      "outputs": []
    },
    {
      "cell_type": "code",
      "metadata": {
        "id": "070lrSuZcZa8",
        "colab_type": "code",
        "colab": {
          "base_uri": "https://localhost:8080/",
          "height": 34
        },
        "outputId": "14779633-711c-45c1-b601-f39ef4b4c995"
      },
      "source": [
        "# The map() function returns an iterable object\n",
        "print(list_map_func)"
      ],
      "execution_count": 7,
      "outputs": [
        {
          "output_type": "stream",
          "text": [
            "<map object at 0x7f2b738cd160>\n"
          ],
          "name": "stdout"
        }
      ]
    },
    {
      "cell_type": "code",
      "metadata": {
        "id": "X-xcjoyeccIx",
        "colab_type": "code",
        "colab": {
          "base_uri": "https://localhost:8080/",
          "height": 34
        },
        "outputId": "64a1eb35-071d-465d-a845-f213a7f50fb5"
      },
      "source": [
        "# To see that results, we need to convert this object to a list\n",
        "print(list(list_map_func))"
      ],
      "execution_count": 8,
      "outputs": [
        {
          "output_type": "stream",
          "text": [
            "[0, 1, 8, 27, 64, 125, 216, 343, 512, 729, 1000, 1331, 1728, 2197, 2744]\n"
          ],
          "name": "stdout"
        }
      ]
    },
    {
      "cell_type": "code",
      "metadata": {
        "id": "ZMzM9NdQcwyD",
        "colab_type": "code",
        "colab": {}
      },
      "source": [
        "# Applying the map() function directly to an range() function\n",
        "list_map_func2 = map(float,range(20))"
      ],
      "execution_count": 0,
      "outputs": []
    },
    {
      "cell_type": "code",
      "metadata": {
        "id": "b0DeGqH3daHm",
        "colab_type": "code",
        "colab": {
          "base_uri": "https://localhost:8080/",
          "height": 34
        },
        "outputId": "1e39fd84-0d53-495f-bf9a-fa522e035470"
      },
      "source": [
        "print(list(list_map_func2))"
      ],
      "execution_count": 10,
      "outputs": [
        {
          "output_type": "stream",
          "text": [
            "[0.0, 1.0, 2.0, 3.0, 4.0, 5.0, 6.0, 7.0, 8.0, 9.0, 10.0, 11.0, 12.0, 13.0, 14.0, 15.0, 16.0, 17.0, 18.0, 19.0]\n"
          ],
          "name": "stdout"
        }
      ]
    },
    {
      "cell_type": "code",
      "metadata": {
        "id": "Vg8nTXvXeE2e",
        "colab_type": "code",
        "colab": {}
      },
      "source": [
        "# Importing the sqrt function from math library\n",
        "from math import sqrt"
      ],
      "execution_count": 0,
      "outputs": []
    },
    {
      "cell_type": "code",
      "metadata": {
        "id": "M3pHGYyOdcj_",
        "colab_type": "code",
        "colab": {
          "base_uri": "https://localhost:8080/",
          "height": 34
        },
        "outputId": "e5d025b3-6583-4c39-b4d9-9475777430e0"
      },
      "source": [
        "arr2 = list(arr1); arr2"
      ],
      "execution_count": 12,
      "outputs": [
        {
          "output_type": "execute_result",
          "data": {
            "text/plain": [
              "[0, 1, 2, 3, 4, 5, 6, 7, 8, 9, 10, 11, 12, 13, 14]"
            ]
          },
          "metadata": {
            "tags": []
          },
          "execution_count": 12
        }
      ]
    },
    {
      "cell_type": "code",
      "metadata": {
        "id": "7yevK7rreSAc",
        "colab_type": "code",
        "colab": {
          "base_uri": "https://localhost:8080/",
          "height": 34
        },
        "outputId": "5d30bf92-dc32-4fc1-b036-7de655640d49"
      },
      "source": [
        "# Applying the square root to the first 5 elements of a list\n",
        "print(list(map(sqrt,arr2[:5])))"
      ],
      "execution_count": 14,
      "outputs": [
        {
          "output_type": "stream",
          "text": [
            "[0.0, 1.0, 1.4142135623730951, 1.7320508075688772, 2.0]\n"
          ],
          "name": "stdout"
        }
      ]
    }
  ]
}