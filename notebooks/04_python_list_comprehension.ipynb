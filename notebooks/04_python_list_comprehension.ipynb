{
  "nbformat": 4,
  "nbformat_minor": 0,
  "metadata": {
    "colab": {
      "name": "04_python_list_comprehension.ipynb",
      "provenance": [],
      "collapsed_sections": [],
      "authorship_tag": "ABX9TyM14acFQtaW9sB0lGi8ypIR",
      "include_colab_link": true
    },
    "kernelspec": {
      "name": "python3",
      "display_name": "Python 3"
    }
  },
  "cells": [
    {
      "cell_type": "markdown",
      "metadata": {
        "id": "view-in-github",
        "colab_type": "text"
      },
      "source": [
        "<a href=\"https://colab.research.google.com/github/ralsouza/data_visualization_with_python/blob/master/notebooks/04_python_list_comprehension.ipynb\" target=\"_parent\"><img src=\"https://colab.research.google.com/assets/colab-badge.svg\" alt=\"Open In Colab\"/></a>"
      ]
    },
    {
      "cell_type": "markdown",
      "metadata": {
        "id": "yyzVByFTX4eB",
        "colab_type": "text"
      },
      "source": [
        "List comprehensions provide a concise way to create lists. \n",
        "\n",
        "It consists of brackets containing an expression followed by a for clause, then zero or more for or if clauses. The expressions can be anything, meaning you can put in all kinds of objects in lists.\n",
        "\n",
        "The result will be a new list resulting from evaluating the expression in the\n",
        "context of the for and if clauses which follow it. \n",
        "\n",
        "The list comprehension always returns a result list. "
      ]
    },
    {
      "cell_type": "code",
      "metadata": {
        "id": "qSyGDE58W7X7",
        "colab_type": "code",
        "colab": {
          "base_uri": "https://localhost:8080/",
          "height": 34
        },
        "outputId": "6b787e8b-5cc9-4ba3-b541-c461180e6b89"
      },
      "source": [
        "# Define the array\n",
        "arr1 = range(0,15); arr1"
      ],
      "execution_count": 3,
      "outputs": [
        {
          "output_type": "execute_result",
          "data": {
            "text/plain": [
              "range(0, 15)"
            ]
          },
          "metadata": {
            "tags": []
          },
          "execution_count": 3
        }
      ]
    },
    {
      "cell_type": "code",
      "metadata": {
        "id": "gsKvM8HKYETN",
        "colab_type": "code",
        "colab": {
          "base_uri": "https://localhost:8080/",
          "height": 34
        },
        "outputId": "8900123c-1a48-4f0b-8d60-6a6e3720286a"
      },
      "source": [
        "# For each item in array, rise each item to cube\n",
        "[item ** 3 for item in arr1]"
      ],
      "execution_count": 4,
      "outputs": [
        {
          "output_type": "execute_result",
          "data": {
            "text/plain": [
              "[0, 1, 8, 27, 64, 125, 216, 343, 512, 729, 1000, 1331, 1728, 2197, 2744]"
            ]
          },
          "metadata": {
            "tags": []
          },
          "execution_count": 4
        }
      ]
    },
    {
      "cell_type": "code",
      "metadata": {
        "id": "9ONeafHDY0mJ",
        "colab_type": "code",
        "colab": {
          "base_uri": "https://localhost:8080/",
          "height": 34
        },
        "outputId": "ea719377-c1ab-4a3a-ae16-dd658f3abb3a"
      },
      "source": [
        "# For each item in array, print the item IF item is divisible by 2\n",
        "[item for item in arr1 if item % 2 == 0]"
      ],
      "execution_count": 5,
      "outputs": [
        {
          "output_type": "execute_result",
          "data": {
            "text/plain": [
              "[0, 2, 4, 6, 8, 10, 12, 14]"
            ]
          },
          "metadata": {
            "tags": []
          },
          "execution_count": 5
        }
      ]
    },
    {
      "cell_type": "code",
      "metadata": {
        "id": "0EJMoJalbAmV",
        "colab_type": "code",
        "colab": {
          "base_uri": "https://localhost:8080/",
          "height": 34
        },
        "outputId": "f502a245-c53d-4776-b56b-c5ba1da8327a"
      },
      "source": [
        "[item ** 2 for item in arr1 if item % 2 == 0]"
      ],
      "execution_count": 6,
      "outputs": [
        {
          "output_type": "execute_result",
          "data": {
            "text/plain": [
              "[0, 4, 16, 36, 64, 100, 144, 196]"
            ]
          },
          "metadata": {
            "tags": []
          },
          "execution_count": 6
        }
      ]
    },
    {
      "cell_type": "code",
      "metadata": {
        "id": "xffefBMZbIR7",
        "colab_type": "code",
        "colab": {}
      },
      "source": [
        "# Working with strings\n",
        "phrase_list = ['Big Data',\n",
        "               'Machine Learning in Big Data and Algorithms in Big Data',\n",
        "               'Data Science and Big Data',\n",
        "               'Big Data and IoT']"
      ],
      "execution_count": 0,
      "outputs": []
    },
    {
      "cell_type": "code",
      "metadata": {
        "id": "_vuOAqEEbzzB",
        "colab_type": "code",
        "colab": {
          "base_uri": "https://localhost:8080/",
          "height": 34
        },
        "outputId": "85802155-ff17-4c43-c5ed-e8da68e7dda2"
      },
      "source": [
        "# For each item in phrase_list, print the itehm IF the count of term 'Big Data' appear twice\n",
        "[item for item in phrase_list if item.count('Big Data') >= 2]"
      ],
      "execution_count": 9,
      "outputs": [
        {
          "output_type": "execute_result",
          "data": {
            "text/plain": [
              "['Machine Learning in Big Data and Algorithms in Big Data']"
            ]
          },
          "metadata": {
            "tags": []
          },
          "execution_count": 9
        }
      ]
    },
    {
      "cell_type": "code",
      "metadata": {
        "id": "IEUV4Y0nce9H",
        "colab_type": "code",
        "colab": {
          "base_uri": "https://localhost:8080/",
          "height": 272
        },
        "outputId": "9abfd2f1-0552-4f31-ad09-e7c6ac36d965"
      },
      "source": [
        "# Convert each item in float data type\n",
        "[float(item) for item in arr1]"
      ],
      "execution_count": 11,
      "outputs": [
        {
          "output_type": "execute_result",
          "data": {
            "text/plain": [
              "[0.0,\n",
              " 1.0,\n",
              " 2.0,\n",
              " 3.0,\n",
              " 4.0,\n",
              " 5.0,\n",
              " 6.0,\n",
              " 7.0,\n",
              " 8.0,\n",
              " 9.0,\n",
              " 10.0,\n",
              " 11.0,\n",
              " 12.0,\n",
              " 13.0,\n",
              " 14.0]"
            ]
          },
          "metadata": {
            "tags": []
          },
          "execution_count": 11
        }
      ]
    }
  ]
}