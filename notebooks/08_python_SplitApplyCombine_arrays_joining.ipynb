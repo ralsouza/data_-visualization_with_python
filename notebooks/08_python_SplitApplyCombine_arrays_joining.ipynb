{
  "nbformat": 4,
  "nbformat_minor": 0,
  "metadata": {
    "colab": {
      "name": "07_python_SplitApplyCombine_arrays_joining.ipynb",
      "provenance": [],
      "collapsed_sections": [],
      "authorship_tag": "ABX9TyNT6lc0MRpxgmy5LlfTaEhX",
      "include_colab_link": true
    },
    "kernelspec": {
      "name": "python3",
      "display_name": "Python 3"
    }
  },
  "cells": [
    {
      "cell_type": "markdown",
      "metadata": {
        "id": "view-in-github",
        "colab_type": "text"
      },
      "source": [
        "<a href=\"https://colab.research.google.com/github/ralsouza/data_visualization_with_python/blob/master/notebooks/08_python_SplitApplyCombine_arrays_joining.ipynb\" target=\"_parent\"><img src=\"https://colab.research.google.com/assets/colab-badge.svg\" alt=\"Open In Colab\"/></a>"
      ]
    },
    {
      "cell_type": "code",
      "metadata": {
        "id": "zuXTAGTnQWcl",
        "colab_type": "code",
        "colab": {}
      },
      "source": [
        "import numpy as np"
      ],
      "execution_count": 0,
      "outputs": []
    },
    {
      "cell_type": "markdown",
      "metadata": {
        "id": "3DGtRny3RRRL",
        "colab_type": "text"
      },
      "source": [
        "#Joining"
      ]
    },
    {
      "cell_type": "code",
      "metadata": {
        "id": "J-EjJO7fRYEl",
        "colab_type": "code",
        "colab": {
          "base_uri": "https://localhost:8080/",
          "height": 68
        },
        "outputId": "6ef0e175-d0b7-437e-90c1-dfec4fc0e2a4"
      },
      "source": [
        "arr1 = np.ones((3,3)); arr1"
      ],
      "execution_count": 3,
      "outputs": [
        {
          "output_type": "execute_result",
          "data": {
            "text/plain": [
              "array([[1., 1., 1.],\n",
              "       [1., 1., 1.],\n",
              "       [1., 1., 1.]])"
            ]
          },
          "metadata": {
            "tags": []
          },
          "execution_count": 3
        }
      ]
    },
    {
      "cell_type": "code",
      "metadata": {
        "id": "mG9WVeRxRclY",
        "colab_type": "code",
        "colab": {
          "base_uri": "https://localhost:8080/",
          "height": 68
        },
        "outputId": "6b0dd410-847e-4be9-8cd6-dd536f944378"
      },
      "source": [
        "arr2 = np.zeros((3,3)); arr2"
      ],
      "execution_count": 4,
      "outputs": [
        {
          "output_type": "execute_result",
          "data": {
            "text/plain": [
              "array([[0., 0., 0.],\n",
              "       [0., 0., 0.],\n",
              "       [0., 0., 0.]])"
            ]
          },
          "metadata": {
            "tags": []
          },
          "execution_count": 4
        }
      ]
    },
    {
      "cell_type": "code",
      "metadata": {
        "id": "bI6GXdkeS18D",
        "colab_type": "code",
        "colab": {}
      },
      "source": [
        "# Stack arrays in sequence vertically (row wise)\n",
        "# This function makes most sense for arrays with up to 3 dimensions\n",
        "?np.vstack"
      ],
      "execution_count": 0,
      "outputs": []
    },
    {
      "cell_type": "code",
      "metadata": {
        "id": "sZX735mPTL_t",
        "colab_type": "code",
        "colab": {}
      },
      "source": [
        "# Stack arrays in sequence horizontally (column wise)\n",
        "# This function makes most sense for arrays with up to 3 dimensions\n",
        "?np.hstack"
      ],
      "execution_count": 0,
      "outputs": []
    },
    {
      "cell_type": "code",
      "metadata": {
        "id": "2DsHvhKnTQ4l",
        "colab_type": "code",
        "colab": {
          "base_uri": "https://localhost:8080/",
          "height": 119
        },
        "outputId": "a893ba45-8f4f-4bac-9879-d32dbfbfb414"
      },
      "source": [
        "# Stacking vertically\n",
        "np.vstack((arr1,arr2))"
      ],
      "execution_count": 10,
      "outputs": [
        {
          "output_type": "execute_result",
          "data": {
            "text/plain": [
              "array([[1., 1., 1.],\n",
              "       [1., 1., 1.],\n",
              "       [1., 1., 1.],\n",
              "       [0., 0., 0.],\n",
              "       [0., 0., 0.],\n",
              "       [0., 0., 0.]])"
            ]
          },
          "metadata": {
            "tags": []
          },
          "execution_count": 10
        }
      ]
    },
    {
      "cell_type": "code",
      "metadata": {
        "id": "BMZ14S3nUTgC",
        "colab_type": "code",
        "colab": {
          "base_uri": "https://localhost:8080/",
          "height": 68
        },
        "outputId": "5f9208f4-94eb-4d5f-c1a3-fa821b947a05"
      },
      "source": [
        "# Stacking horizontally\n",
        "np.hstack((arr1,arr2))"
      ],
      "execution_count": 11,
      "outputs": [
        {
          "output_type": "execute_result",
          "data": {
            "text/plain": [
              "array([[1., 1., 1., 0., 0., 0.],\n",
              "       [1., 1., 1., 0., 0., 0.],\n",
              "       [1., 1., 1., 0., 0., 0.]])"
            ]
          },
          "metadata": {
            "tags": []
          },
          "execution_count": 11
        }
      ]
    },
    {
      "cell_type": "code",
      "metadata": {
        "id": "X4qeazEdUslj",
        "colab_type": "code",
        "colab": {}
      },
      "source": [
        "# Stacking arrays with 1-D and 2-D\n",
        "x = np.array([0,1,2])\n",
        "y = np.array([3,4,5])\n",
        "z = np.array([6,7,8])"
      ],
      "execution_count": 0,
      "outputs": []
    },
    {
      "cell_type": "code",
      "metadata": {
        "id": "euNGgAPhVlon",
        "colab_type": "code",
        "colab": {}
      },
      "source": [
        "# Stack 1-D arrays as columns into a 2-D array\n",
        "?np.column_stack"
      ],
      "execution_count": 0,
      "outputs": []
    },
    {
      "cell_type": "code",
      "metadata": {
        "id": "dajqYLsPVqxe",
        "colab_type": "code",
        "colab": {}
      },
      "source": [
        "# Stack arrays in sequence vertically (row wise)\n",
        "# This is equivalent to concatenation along the first axis after 1-D arrays\n",
        "?np.row_stack"
      ],
      "execution_count": 0,
      "outputs": []
    },
    {
      "cell_type": "code",
      "metadata": {
        "id": "Vfeg5DYgV3Hg",
        "colab_type": "code",
        "colab": {
          "base_uri": "https://localhost:8080/",
          "height": 68
        },
        "outputId": "1588dd7d-20a9-46fb-a18f-f4ef1f491ae2"
      },
      "source": [
        "# Stacking by column\n",
        "np.column_stack((x,y,z))"
      ],
      "execution_count": 18,
      "outputs": [
        {
          "output_type": "execute_result",
          "data": {
            "text/plain": [
              "array([[0, 3, 6],\n",
              "       [1, 4, 7],\n",
              "       [2, 5, 8]])"
            ]
          },
          "metadata": {
            "tags": []
          },
          "execution_count": 18
        }
      ]
    },
    {
      "cell_type": "code",
      "metadata": {
        "id": "JqDB0ZibWWLE",
        "colab_type": "code",
        "colab": {
          "base_uri": "https://localhost:8080/",
          "height": 68
        },
        "outputId": "b8e55884-55d2-4fd5-e9b2-f99ec9be5ac8"
      },
      "source": [
        "# Stacking by row\n",
        "np.row_stack((x,y,z))"
      ],
      "execution_count": 19,
      "outputs": [
        {
          "output_type": "execute_result",
          "data": {
            "text/plain": [
              "array([[0, 1, 2],\n",
              "       [3, 4, 5],\n",
              "       [6, 7, 8]])"
            ]
          },
          "metadata": {
            "tags": []
          },
          "execution_count": 19
        }
      ]
    }
  ]
}