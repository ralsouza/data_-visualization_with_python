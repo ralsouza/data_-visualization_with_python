{
  "nbformat": 4,
  "nbformat_minor": 0,
  "metadata": {
    "colab": {
      "name": "13_python_pandas_series_indexing.ipynb",
      "provenance": [],
      "collapsed_sections": [],
      "authorship_tag": "ABX9TyMP00cnMIDc0keY4udx2Rh/",
      "include_colab_link": true
    },
    "kernelspec": {
      "name": "python3",
      "display_name": "Python 3"
    }
  },
  "cells": [
    {
      "cell_type": "markdown",
      "metadata": {
        "id": "view-in-github",
        "colab_type": "text"
      },
      "source": [
        "<a href=\"https://colab.research.google.com/github/ralsouza/data_visualization_with_python/blob/master/notebooks/13_python_pandas_series_indexing.ipynb\" target=\"_parent\"><img src=\"https://colab.research.google.com/assets/colab-badge.svg\" alt=\"Open In Colab\"/></a>"
      ]
    },
    {
      "cell_type": "code",
      "metadata": {
        "id": "kgAScYDCEdBP",
        "colab_type": "code",
        "colab": {}
      },
      "source": [
        "import pandas as pd\n",
        "import numpy as np"
      ],
      "execution_count": 0,
      "outputs": []
    },
    {
      "cell_type": "markdown",
      "metadata": {
        "id": "6LXdBaFDFSjs",
        "colab_type": "text"
      },
      "source": [
        "#Operations with Series"
      ]
    },
    {
      "cell_type": "code",
      "metadata": {
        "id": "WgjYHBxxFQRq",
        "colab_type": "code",
        "colab": {
          "base_uri": "https://localhost:8080/",
          "height": 503
        },
        "outputId": "084ffd5a-4202-4f21-9405-ac63b180de02"
      },
      "source": [
        "# Make a series with 26 items\n",
        "# Indexing Data\n",
        "s1 = pd.Series(np.arange(26)); s1"
      ],
      "execution_count": 2,
      "outputs": [
        {
          "output_type": "execute_result",
          "data": {
            "text/plain": [
              "0      0\n",
              "1      1\n",
              "2      2\n",
              "3      3\n",
              "4      4\n",
              "5      5\n",
              "6      6\n",
              "7      7\n",
              "8      8\n",
              "9      9\n",
              "10    10\n",
              "11    11\n",
              "12    12\n",
              "13    13\n",
              "14    14\n",
              "15    15\n",
              "16    16\n",
              "17    17\n",
              "18    18\n",
              "19    19\n",
              "20    20\n",
              "21    21\n",
              "22    22\n",
              "23    23\n",
              "24    24\n",
              "25    25\n",
              "dtype: int64"
            ]
          },
          "metadata": {
            "tags": []
          },
          "execution_count": 2
        }
      ]
    },
    {
      "cell_type": "code",
      "metadata": {
        "id": "8b3d6n3IF6uX",
        "colab_type": "code",
        "colab": {
          "base_uri": "https://localhost:8080/",
          "height": 35
        },
        "outputId": "0a69aa08-504c-4463-b678-39b669428911"
      },
      "source": [
        "# Show index config\n",
        "s1.index"
      ],
      "execution_count": 3,
      "outputs": [
        {
          "output_type": "execute_result",
          "data": {
            "text/plain": [
              "RangeIndex(start=0, stop=26, step=1)"
            ]
          },
          "metadata": {
            "tags": []
          },
          "execution_count": 3
        }
      ]
    },
    {
      "cell_type": "code",
      "metadata": {
        "id": "SCUTgo6XGN3w",
        "colab_type": "code",
        "colab": {}
      },
      "source": [
        "import string"
      ],
      "execution_count": 0,
      "outputs": []
    },
    {
      "cell_type": "code",
      "metadata": {
        "id": "Cqdwbjy9GxHj",
        "colab_type": "code",
        "colab": {
          "base_uri": "https://localhost:8080/",
          "height": 35
        },
        "outputId": "1b3587a6-3962-4490-e171-62934da0dc7c"
      },
      "source": [
        "lcase = string.ascii_lowercase\n",
        "ucase = string.ascii_uppercase\n",
        "print(lcase,ucase)"
      ],
      "execution_count": 7,
      "outputs": [
        {
          "output_type": "stream",
          "text": [
            "abcdefghijklmnopqrstuvwxyz ABCDEFGHIJKLMNOPQRSTUVWXYZ\n"
          ],
          "name": "stdout"
        }
      ]
    },
    {
      "cell_type": "code",
      "metadata": {
        "id": "EATVSB6TG6PC",
        "colab_type": "code",
        "colab": {
          "base_uri": "https://localhost:8080/",
          "height": 53
        },
        "outputId": "b6ee1fbd-f80a-48c2-d5da-4742c213f68f"
      },
      "source": [
        "lcase = list(lcase)\n",
        "ucase = list(ucase)\n",
        "print(lcase)\n",
        "print(ucase)"
      ],
      "execution_count": 8,
      "outputs": [
        {
          "output_type": "stream",
          "text": [
            "['a', 'b', 'c', 'd', 'e', 'f', 'g', 'h', 'i', 'j', 'k', 'l', 'm', 'n', 'o', 'p', 'q', 'r', 's', 't', 'u', 'v', 'w', 'x', 'y', 'z']\n",
            "['A', 'B', 'C', 'D', 'E', 'F', 'G', 'H', 'I', 'J', 'K', 'L', 'M', 'N', 'O', 'P', 'Q', 'R', 'S', 'T', 'U', 'V', 'W', 'X', 'Y', 'Z']\n"
          ],
          "name": "stdout"
        }
      ]
    },
    {
      "cell_type": "code",
      "metadata": {
        "id": "yu2LOLjHHRoR",
        "colab_type": "code",
        "colab": {
          "base_uri": "https://localhost:8080/",
          "height": 503
        },
        "outputId": "7320f855-ca1a-46cc-a836-c107d8a69e49"
      },
      "source": [
        "# Making the lcase the index of serie s1\n",
        "s1.index = lcase; s1"
      ],
      "execution_count": 11,
      "outputs": [
        {
          "output_type": "execute_result",
          "data": {
            "text/plain": [
              "a     0\n",
              "b     1\n",
              "c     2\n",
              "d     3\n",
              "e     4\n",
              "f     5\n",
              "g     6\n",
              "h     7\n",
              "i     8\n",
              "j     9\n",
              "k    10\n",
              "l    11\n",
              "m    12\n",
              "n    13\n",
              "o    14\n",
              "p    15\n",
              "q    16\n",
              "r    17\n",
              "s    18\n",
              "t    19\n",
              "u    20\n",
              "v    21\n",
              "w    22\n",
              "x    23\n",
              "y    24\n",
              "z    25\n",
              "dtype: int64"
            ]
          },
          "metadata": {
            "tags": []
          },
          "execution_count": 11
        }
      ]
    },
    {
      "cell_type": "code",
      "metadata": {
        "id": "XJah36tPH_fK",
        "colab_type": "code",
        "colab": {
          "base_uri": "https://localhost:8080/",
          "height": 269
        },
        "outputId": "ab42cdcd-a0fa-417d-e215-d9875c848b37"
      },
      "source": [
        "# Slicing s1 by index from f up to r\n",
        "s1['f':'r']"
      ],
      "execution_count": 12,
      "outputs": [
        {
          "output_type": "execute_result",
          "data": {
            "text/plain": [
              "f     5\n",
              "g     6\n",
              "h     7\n",
              "i     8\n",
              "j     9\n",
              "k    10\n",
              "l    11\n",
              "m    12\n",
              "n    13\n",
              "o    14\n",
              "p    15\n",
              "q    16\n",
              "r    17\n",
              "dtype: int64"
            ]
          },
          "metadata": {
            "tags": []
          },
          "execution_count": 12
        }
      ]
    },
    {
      "cell_type": "code",
      "metadata": {
        "id": "pZsL5LI7IJze",
        "colab_type": "code",
        "colab": {
          "base_uri": "https://localhost:8080/",
          "height": 35
        },
        "outputId": "e6f021d9-b813-48ca-b546-9393ee135599"
      },
      "source": [
        "# Returning the value of index f\n",
        "s1['f']"
      ],
      "execution_count": 14,
      "outputs": [
        {
          "output_type": "execute_result",
          "data": {
            "text/plain": [
              "5"
            ]
          },
          "metadata": {
            "tags": []
          },
          "execution_count": 14
        }
      ]
    },
    {
      "cell_type": "markdown",
      "metadata": {
        "id": "0l4-LIkPIbes",
        "colab_type": "text"
      },
      "source": [
        "#Applying Functions in Series"
      ]
    },
    {
      "cell_type": "code",
      "metadata": {
        "id": "D8JwgD1hINfJ",
        "colab_type": "code",
        "colab": {}
      },
      "source": [
        "import matplotlib as plt\n",
        "%matplotlib inline"
      ],
      "execution_count": 0,
      "outputs": []
    },
    {
      "cell_type": "code",
      "metadata": {
        "id": "3Of39tkLIof4",
        "colab_type": "code",
        "colab": {
          "base_uri": "https://localhost:8080/",
          "height": 71
        },
        "outputId": "06d1b2d4-4e46-47d8-eb6c-bf3345fe5dc5"
      },
      "source": [
        "# Making an array\n",
        "arr1 = np.random.randint(1,30,40); arr1"
      ],
      "execution_count": 16,
      "outputs": [
        {
          "output_type": "execute_result",
          "data": {
            "text/plain": [
              "array([21,  2, 26, 26, 11,  7, 26, 24, 22, 29, 27,  7, 23, 22,  8, 14,  6,\n",
              "       29,  5,  9, 12,  4, 21, 28, 15, 15, 10,  5, 16,  6, 19, 23, 25, 20,\n",
              "        4, 26, 24, 29,  8, 13])"
            ]
          },
          "metadata": {
            "tags": []
          },
          "execution_count": 16
        }
      ]
    },
    {
      "cell_type": "code",
      "metadata": {
        "id": "4NUVqYErIwdi",
        "colab_type": "code",
        "colab": {
          "base_uri": "https://localhost:8080/",
          "height": 755
        },
        "outputId": "d919a31d-393c-4257-9c9b-f0525349c887"
      },
      "source": [
        "# Making the array as serie\n",
        "data = pd.Series(arr1); data"
      ],
      "execution_count": 17,
      "outputs": [
        {
          "output_type": "execute_result",
          "data": {
            "text/plain": [
              "0     21\n",
              "1      2\n",
              "2     26\n",
              "3     26\n",
              "4     11\n",
              "5      7\n",
              "6     26\n",
              "7     24\n",
              "8     22\n",
              "9     29\n",
              "10    27\n",
              "11     7\n",
              "12    23\n",
              "13    22\n",
              "14     8\n",
              "15    14\n",
              "16     6\n",
              "17    29\n",
              "18     5\n",
              "19     9\n",
              "20    12\n",
              "21     4\n",
              "22    21\n",
              "23    28\n",
              "24    15\n",
              "25    15\n",
              "26    10\n",
              "27     5\n",
              "28    16\n",
              "29     6\n",
              "30    19\n",
              "31    23\n",
              "32    25\n",
              "33    20\n",
              "34     4\n",
              "35    26\n",
              "36    24\n",
              "37    29\n",
              "38     8\n",
              "39    13\n",
              "dtype: int64"
            ]
          },
          "metadata": {
            "tags": []
          },
          "execution_count": 17
        }
      ]
    },
    {
      "cell_type": "code",
      "metadata": {
        "id": "a2oLBdHjJNog",
        "colab_type": "code",
        "colab": {
          "base_uri": "https://localhost:8080/",
          "height": 755
        },
        "outputId": "4e87ccaf-6f5c-42d5-f223-029ed86624f4"
      },
      "source": [
        "# Define the data type of values as float16\n",
        "data2 = pd.Series(arr1,dtype=np.float16); data2"
      ],
      "execution_count": 19,
      "outputs": [
        {
          "output_type": "execute_result",
          "data": {
            "text/plain": [
              "0     21.0\n",
              "1      2.0\n",
              "2     26.0\n",
              "3     26.0\n",
              "4     11.0\n",
              "5      7.0\n",
              "6     26.0\n",
              "7     24.0\n",
              "8     22.0\n",
              "9     29.0\n",
              "10    27.0\n",
              "11     7.0\n",
              "12    23.0\n",
              "13    22.0\n",
              "14     8.0\n",
              "15    14.0\n",
              "16     6.0\n",
              "17    29.0\n",
              "18     5.0\n",
              "19     9.0\n",
              "20    12.0\n",
              "21     4.0\n",
              "22    21.0\n",
              "23    28.0\n",
              "24    15.0\n",
              "25    15.0\n",
              "26    10.0\n",
              "27     5.0\n",
              "28    16.0\n",
              "29     6.0\n",
              "30    19.0\n",
              "31    23.0\n",
              "32    25.0\n",
              "33    20.0\n",
              "34     4.0\n",
              "35    26.0\n",
              "36    24.0\n",
              "37    29.0\n",
              "38     8.0\n",
              "39    13.0\n",
              "dtype: float16"
            ]
          },
          "metadata": {
            "tags": []
          },
          "execution_count": 19
        }
      ]
    },
    {
      "cell_type": "code",
      "metadata": {
        "id": "9YkfAvX_Khws",
        "colab_type": "code",
        "colab": {
          "base_uri": "https://localhost:8080/",
          "height": 35
        },
        "outputId": "e9186432-60ac-4933-81ae-b6b152563f0b"
      },
      "source": [
        "# Check average/mean\n",
        "data2.mean()"
      ],
      "execution_count": 20,
      "outputs": [
        {
          "output_type": "execute_result",
          "data": {
            "text/plain": [
              "16.67"
            ]
          },
          "metadata": {
            "tags": []
          },
          "execution_count": 20
        }
      ]
    },
    {
      "cell_type": "code",
      "metadata": {
        "id": "l-wjrIRRK68p",
        "colab_type": "code",
        "colab": {
          "base_uri": "https://localhost:8080/",
          "height": 35
        },
        "outputId": "b854a1a3-bd12-47d3-84ce-9e9809ac4b06"
      },
      "source": [
        "# Check meadian\n",
        "data2.median()"
      ],
      "execution_count": 21,
      "outputs": [
        {
          "output_type": "execute_result",
          "data": {
            "text/plain": [
              "17.5"
            ]
          },
          "metadata": {
            "tags": []
          },
          "execution_count": 21
        }
      ]
    },
    {
      "cell_type": "code",
      "metadata": {
        "id": "UA7mksuGK9eZ",
        "colab_type": "code",
        "colab": {
          "base_uri": "https://localhost:8080/",
          "height": 53
        },
        "outputId": "6e7b7471-41fb-4a2e-b9f1-6e8215744c04"
      },
      "source": [
        "# Check mode\n",
        "data2.mode()"
      ],
      "execution_count": 22,
      "outputs": [
        {
          "output_type": "execute_result",
          "data": {
            "text/plain": [
              "0    26.0\n",
              "dtype: float16"
            ]
          },
          "metadata": {
            "tags": []
          },
          "execution_count": 22
        }
      ]
    },
    {
      "cell_type": "code",
      "metadata": {
        "id": "-SkQm5tkLBvG",
        "colab_type": "code",
        "colab": {
          "base_uri": "https://localhost:8080/",
          "height": 71
        },
        "outputId": "15ceafd5-793a-4e2e-ef0a-723554767f9c"
      },
      "source": [
        "# Select unique values\n",
        "data2.unique()"
      ],
      "execution_count": 23,
      "outputs": [
        {
          "output_type": "execute_result",
          "data": {
            "text/plain": [
              "array([21.,  2., 26., 11.,  7., 24., 22., 29., 27., 23.,  8., 14.,  6.,\n",
              "        5.,  9., 12.,  4., 28., 15., 10., 16., 19., 25., 20., 13.],\n",
              "      dtype=float16)"
            ]
          },
          "metadata": {
            "tags": []
          },
          "execution_count": 23
        }
      ]
    },
    {
      "cell_type": "code",
      "metadata": {
        "id": "iR3oY44mLIBT",
        "colab_type": "code",
        "colab": {
          "base_uri": "https://localhost:8080/",
          "height": 485
        },
        "outputId": "93f47361-5bfe-40d0-d0b7-14a5d5093f1c"
      },
      "source": [
        "# Counting values\n",
        "data2.value_counts()"
      ],
      "execution_count": 26,
      "outputs": [
        {
          "output_type": "execute_result",
          "data": {
            "text/plain": [
              "26.0    4\n",
              "29.0    3\n",
              "6.0     2\n",
              "5.0     2\n",
              "7.0     2\n",
              "24.0    2\n",
              "22.0    2\n",
              "23.0    2\n",
              "8.0     2\n",
              "21.0    2\n",
              "4.0     2\n",
              "15.0    2\n",
              "9.0     1\n",
              "12.0    1\n",
              "20.0    1\n",
              "14.0    1\n",
              "28.0    1\n",
              "27.0    1\n",
              "10.0    1\n",
              "16.0    1\n",
              "19.0    1\n",
              "11.0    1\n",
              "25.0    1\n",
              "2.0     1\n",
              "13.0    1\n",
              "dtype: int64"
            ]
          },
          "metadata": {
            "tags": []
          },
          "execution_count": 26
        }
      ]
    },
    {
      "cell_type": "code",
      "metadata": {
        "id": "QksKHiy8LW2Q",
        "colab_type": "code",
        "colab": {
          "base_uri": "https://localhost:8080/",
          "height": 179
        },
        "outputId": "82d4efaf-7147-446d-8d90-352def9f2e94"
      },
      "source": [
        "# Describe\n",
        "data2.describe()"
      ],
      "execution_count": 27,
      "outputs": [
        {
          "output_type": "execute_result",
          "data": {
            "text/plain": [
              "count    40.000000\n",
              "mean     16.671875\n",
              "std       8.718750\n",
              "min       2.000000\n",
              "25%       8.000000\n",
              "50%      17.500000\n",
              "75%      24.250000\n",
              "max      29.000000\n",
              "dtype: float64"
            ]
          },
          "metadata": {
            "tags": []
          },
          "execution_count": 27
        }
      ]
    },
    {
      "cell_type": "code",
      "metadata": {
        "id": "f1h11msZLwBP",
        "colab_type": "code",
        "colab": {
          "base_uri": "https://localhost:8080/",
          "height": 283
        },
        "outputId": "70bc707f-fe1a-4190-96b0-ebbdbd3cede3"
      },
      "source": [
        "# Making a histogram\n",
        "data2.hist()"
      ],
      "execution_count": 28,
      "outputs": [
        {
          "output_type": "execute_result",
          "data": {
            "text/plain": [
              "<matplotlib.axes._subplots.AxesSubplot at 0x7f1cd303ffd0>"
            ]
          },
          "metadata": {
            "tags": []
          },
          "execution_count": 28
        },
        {
          "output_type": "display_data",
          "data": {
            "image/png": "[encoded data removed]",
            "text/plain": [
              "<Figure size 432x288 with 1 Axes>"
            ]
          },
          "metadata": {
            "tags": [],
            "needs_background": "light"
          }
        }
      ]
    }
  ]
}