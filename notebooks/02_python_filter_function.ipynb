{
  "nbformat": 4,
  "nbformat_minor": 0,
  "metadata": {
    "colab": {
      "name": "02_python_filter_function.ipynb",
      "provenance": [],
      "collapsed_sections": [],
      "authorship_tag": "ABX9TyPg5Rswbqlu4NrthgXE51yg",
      "include_colab_link": true
    },
    "kernelspec": {
      "name": "python3",
      "display_name": "Python 3"
    }
  },
  "cells": [
    {
      "cell_type": "markdown",
      "metadata": {
        "id": "view-in-github",
        "colab_type": "text"
      },
      "source": [
        "<a href=\"https://colab.research.google.com/github/ralsouza/data_visualization_with_python/blob/master/notebooks/02_python_filter_function.ipynb\" target=\"_parent\"><img src=\"https://colab.research.google.com/assets/colab-badge.svg\" alt=\"Open In Colab\"/></a>"
      ]
    },
    {
      "cell_type": "markdown",
      "metadata": {
        "id": "qXRSt079fEm1",
        "colab_type": "text"
      },
      "source": [
        "# Filter\n",
        "The Filter function allows you to filter elements of a list. We apply a function that returns some boolean values (True or False). We return the values where the expression is True and filtering the values where the expression returns False."
      ]
    },
    {
      "cell_type": "code",
      "metadata": {
        "id": "-gCcZbYBe9H-",
        "colab_type": "code",
        "colab": {
          "base_uri": "https://localhost:8080/",
          "height": 34
        },
        "outputId": "b55a54e7-fb21-4b99-d168-f841741fca27"
      },
      "source": [
        "arr1 = range(0,15); arr1"
      ],
      "execution_count": 1,
      "outputs": [
        {
          "output_type": "execute_result",
          "data": {
            "text/plain": [
              "range(0, 15)"
            ]
          },
          "metadata": {
            "tags": []
          },
          "execution_count": 1
        }
      ]
    },
    {
      "cell_type": "code",
      "metadata": {
        "id": "TkH5HxsAj_qh",
        "colab_type": "code",
        "colab": {}
      },
      "source": [
        "# Create a function that checks if a number is even\n",
        "def check_even(n):\n",
        "  ''' Return True or False '''\n",
        "  return n % 2 == 0"
      ],
      "execution_count": 0,
      "outputs": []
    },
    {
      "cell_type": "code",
      "metadata": {
        "id": "WUmafoCckkb-",
        "colab_type": "code",
        "colab": {
          "base_uri": "https://localhost:8080/",
          "height": 34
        },
        "outputId": "c302ca91-0493-4890-f3aa-7832606a6fe0"
      },
      "source": [
        "check_even(2)"
      ],
      "execution_count": 6,
      "outputs": [
        {
          "output_type": "execute_result",
          "data": {
            "text/plain": [
              "True"
            ]
          },
          "metadata": {
            "tags": []
          },
          "execution_count": 6
        }
      ]
    },
    {
      "cell_type": "code",
      "metadata": {
        "id": "8RB0s0bpknLC",
        "colab_type": "code",
        "colab": {
          "base_uri": "https://localhost:8080/",
          "height": 34
        },
        "outputId": "638fa469-04f0-4868-c22c-a2ff7e9d9ce9"
      },
      "source": [
        "check_even(3)"
      ],
      "execution_count": 7,
      "outputs": [
        {
          "output_type": "execute_result",
          "data": {
            "text/plain": [
              "False"
            ]
          },
          "metadata": {
            "tags": []
          },
          "execution_count": 7
        }
      ]
    },
    {
      "cell_type": "code",
      "metadata": {
        "id": "kB_TaAJokos6",
        "colab_type": "code",
        "colab": {
          "base_uri": "https://localhost:8080/",
          "height": 272
        },
        "outputId": "4575c6eb-5950-4f1e-d1a6-d9283cfd3c28"
      },
      "source": [
        "# Apply the check_even() in arr1, to be applied to each element in array\n",
        "list(map(check_even,arr1))"
      ],
      "execution_count": 8,
      "outputs": [
        {
          "output_type": "execute_result",
          "data": {
            "text/plain": [
              "[True,\n",
              " False,\n",
              " True,\n",
              " False,\n",
              " True,\n",
              " False,\n",
              " True,\n",
              " False,\n",
              " True,\n",
              " False,\n",
              " True,\n",
              " False,\n",
              " True,\n",
              " False,\n",
              " True]"
            ]
          },
          "metadata": {
            "tags": []
          },
          "execution_count": 8
        }
      ]
    },
    {
      "cell_type": "code",
      "metadata": {
        "id": "ISY4CfA4lQ5N",
        "colab_type": "code",
        "colab": {
          "base_uri": "https://localhost:8080/",
          "height": 34
        },
        "outputId": "44c88874-dbb1-4000-a2e4-b043bd7178b1"
      },
      "source": [
        "# Return only elements that check_even() returns as True, with filter() function\n",
        "list(filter(check_even,arr1))"
      ],
      "execution_count": 9,
      "outputs": [
        {
          "output_type": "execute_result",
          "data": {
            "text/plain": [
              "[0, 2, 4, 6, 8, 10, 12, 14]"
            ]
          },
          "metadata": {
            "tags": []
          },
          "execution_count": 9
        }
      ]
    },
    {
      "cell_type": "code",
      "metadata": {
        "id": "BDP_1aShmWQj",
        "colab_type": "code",
        "colab": {}
      },
      "source": [
        "# Create an array with some terms\n",
        "list_phrases = ['Big Data',\n",
        "                'Machine Learning in Big Data and Algorithms in Big Data',\n",
        "                'Data Science and Big Data',\n",
        "                'Big Data and IOT']"
      ],
      "execution_count": 0,
      "outputs": []
    },
    {
      "cell_type": "code",
      "metadata": {
        "id": "bmJ_jzQjlrJ0",
        "colab_type": "code",
        "colab": {}
      },
      "source": [
        "# Create a function that the term \"Big Data\" appears twice in the same term\n",
        "def check_bigdata(n):\n",
        "  return n.count('Big Data') >= 2"
      ],
      "execution_count": 0,
      "outputs": []
    },
    {
      "cell_type": "code",
      "metadata": {
        "id": "j0GUoNBKmvmS",
        "colab_type": "code",
        "colab": {
          "base_uri": "https://localhost:8080/",
          "height": 34
        },
        "outputId": "10588a31-63bd-41fd-b397-006318f3fb1a"
      },
      "source": [
        "# Apply the filter function\n",
        "list(filter(check_bigdata,list_phrases))"
      ],
      "execution_count": 13,
      "outputs": [
        {
          "output_type": "execute_result",
          "data": {
            "text/plain": [
              "['Machine Learning in Big Data and Algorithms in Big Data']"
            ]
          },
          "metadata": {
            "tags": []
          },
          "execution_count": 13
        }
      ]
    }
  ]
}