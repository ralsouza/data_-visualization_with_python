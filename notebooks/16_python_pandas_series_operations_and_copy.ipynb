{
  "nbformat": 4,
  "nbformat_minor": 0,
  "metadata": {
    "colab": {
      "name": "16_python_pandas_series_operations_and_copy.ipynb",
      "provenance": [],
      "collapsed_sections": [],
      "authorship_tag": "ABX9TyPx2BrtlcjusW0HGNUBiQLt",
      "include_colab_link": true
    },
    "kernelspec": {
      "name": "python3",
      "display_name": "Python 3"
    }
  },
  "cells": [
    {
      "cell_type": "markdown",
      "metadata": {
        "id": "view-in-github",
        "colab_type": "text"
      },
      "source": [
        "<a href=\"https://colab.research.google.com/github/ralsouza/data_visualization_with_python/blob/master/notebooks/16_python_pandas_series_operations_and_copy.ipynb\" target=\"_parent\"><img src=\"https://colab.research.google.com/assets/colab-badge.svg\" alt=\"Open In Colab\"/></a>"
      ]
    },
    {
      "cell_type": "code",
      "metadata": {
        "id": "eRvUMB94XdyF",
        "colab_type": "code",
        "colab": {}
      },
      "source": [
        "import pandas as pd\n",
        "import numpy as np"
      ],
      "execution_count": 0,
      "outputs": []
    },
    {
      "cell_type": "markdown",
      "metadata": {
        "id": "xkNbWmZAXSwQ",
        "colab_type": "text"
      },
      "source": [
        "# Different Indexes"
      ]
    },
    {
      "cell_type": "code",
      "metadata": {
        "id": "7m34J_mCWs-n",
        "colab_type": "code",
        "colab": {
          "base_uri": "https://localhost:8080/",
          "height": 125
        },
        "outputId": "20cb40eb-0ac4-41fd-df67-48ffe4fa4135"
      },
      "source": [
        "s1 = pd.Series(np.random.randn(5)); s1"
      ],
      "execution_count": 5,
      "outputs": [
        {
          "output_type": "execute_result",
          "data": {
            "text/plain": [
              "0    1.360493\n",
              "1    1.799700\n",
              "2    0.168351\n",
              "3    0.363120\n",
              "4   -1.604639\n",
              "dtype: float64"
            ]
          },
          "metadata": {
            "tags": []
          },
          "execution_count": 5
        }
      ]
    },
    {
      "cell_type": "code",
      "metadata": {
        "id": "4wlUOkyMXnRi",
        "colab_type": "code",
        "colab": {
          "base_uri": "https://localhost:8080/",
          "height": 125
        },
        "outputId": "1124c4cf-6449-4f32-c958-baeb1357f3fc"
      },
      "source": [
        "s2 = pd.Series(np.random.randn(5)); s2"
      ],
      "execution_count": 6,
      "outputs": [
        {
          "output_type": "execute_result",
          "data": {
            "text/plain": [
              "0    0.526737\n",
              "1    1.493131\n",
              "2   -0.597805\n",
              "3   -1.157649\n",
              "4   -1.331007\n",
              "dtype: float64"
            ]
          },
          "metadata": {
            "tags": []
          },
          "execution_count": 6
        }
      ]
    },
    {
      "cell_type": "code",
      "metadata": {
        "id": "Nu2SbkGNX_d9",
        "colab_type": "code",
        "colab": {
          "base_uri": "https://localhost:8080/",
          "height": 125
        },
        "outputId": "861b1598-3d99-41fd-c32a-031188b2d690"
      },
      "source": [
        "# Sum s1 and s2, it is possible because the indexes are correspondents\n",
        "s1 + s2"
      ],
      "execution_count": 7,
      "outputs": [
        {
          "output_type": "execute_result",
          "data": {
            "text/plain": [
              "0    1.887230\n",
              "1    3.292832\n",
              "2   -0.429454\n",
              "3   -0.794529\n",
              "4   -2.935646\n",
              "dtype: float64"
            ]
          },
          "metadata": {
            "tags": []
          },
          "execution_count": 7
        }
      ]
    },
    {
      "cell_type": "code",
      "metadata": {
        "id": "IjMMRHY0YIPh",
        "colab_type": "code",
        "colab": {
          "base_uri": "https://localhost:8080/",
          "height": 125
        },
        "outputId": "af4bcd45-fab7-418c-d79c-8eff6c28219d"
      },
      "source": [
        "# Test with different indexes\n",
        "s2.index = list(range(3,8)); s2"
      ],
      "execution_count": 8,
      "outputs": [
        {
          "output_type": "execute_result",
          "data": {
            "text/plain": [
              "3    0.526737\n",
              "4    1.493131\n",
              "5   -0.597805\n",
              "6   -1.157649\n",
              "7   -1.331007\n",
              "dtype: float64"
            ]
          },
          "metadata": {
            "tags": []
          },
          "execution_count": 8
        }
      ]
    },
    {
      "cell_type": "code",
      "metadata": {
        "id": "y4vuOJJHY1Lh",
        "colab_type": "code",
        "colab": {
          "base_uri": "https://localhost:8080/",
          "height": 179
        },
        "outputId": "db53bbc3-bfa9-4c49-ded1-90df22c09a23"
      },
      "source": [
        "# Because the different indexes, the result is NaN\n",
        "s1 + s2"
      ],
      "execution_count": 10,
      "outputs": [
        {
          "output_type": "execute_result",
          "data": {
            "text/plain": [
              "0         NaN\n",
              "1         NaN\n",
              "2         NaN\n",
              "3    0.889857\n",
              "4   -0.111508\n",
              "5         NaN\n",
              "6         NaN\n",
              "7         NaN\n",
              "dtype: float64"
            ]
          },
          "metadata": {
            "tags": []
          },
          "execution_count": 10
        }
      ]
    },
    {
      "cell_type": "code",
      "metadata": {
        "id": "aHuSsBIXY6Tv",
        "colab_type": "code",
        "colab": {
          "base_uri": "https://localhost:8080/",
          "height": 215
        },
        "outputId": "a22bcfe0-a49b-4f6c-a135-0c9caeadde16"
      },
      "source": [
        "# Filling values with zeros\n",
        "s1.reindex(range(10), fill_value = 0) + s2.reindex(range(10), fill_value = 0)"
      ],
      "execution_count": 11,
      "outputs": [
        {
          "output_type": "execute_result",
          "data": {
            "text/plain": [
              "0    1.360493\n",
              "1    1.799700\n",
              "2    0.168351\n",
              "3    0.889857\n",
              "4   -0.111508\n",
              "5   -0.597805\n",
              "6   -1.157649\n",
              "7   -1.331007\n",
              "8    0.000000\n",
              "9    0.000000\n",
              "dtype: float64"
            ]
          },
          "metadata": {
            "tags": []
          },
          "execution_count": 11
        }
      ]
    },
    {
      "cell_type": "markdown",
      "metadata": {
        "id": "W71Xw0_qaEfr",
        "colab_type": "text"
      },
      "source": [
        "# Copying a Serie"
      ]
    },
    {
      "cell_type": "code",
      "metadata": {
        "id": "ptEbTi-NZw_U",
        "colab_type": "code",
        "colab": {
          "base_uri": "https://localhost:8080/",
          "height": 125
        },
        "outputId": "9941a22e-b70b-4360-a497-9dc70f955363"
      },
      "source": [
        "s1_cpy = s1.copy(); s1_cpy"
      ],
      "execution_count": 12,
      "outputs": [
        {
          "output_type": "execute_result",
          "data": {
            "text/plain": [
              "0    1.360493\n",
              "1    1.799700\n",
              "2    0.168351\n",
              "3    0.363120\n",
              "4   -1.604639\n",
              "dtype: float64"
            ]
          },
          "metadata": {
            "tags": []
          },
          "execution_count": 12
        }
      ]
    },
    {
      "cell_type": "markdown",
      "metadata": {
        "id": "PJJAMZE3auYe",
        "colab_type": "text"
      },
      "source": [
        "# Using map() function from Pandas"
      ]
    },
    {
      "cell_type": "code",
      "metadata": {
        "id": "SmOr5a_raPLe",
        "colab_type": "code",
        "colab": {
          "base_uri": "https://localhost:8080/",
          "height": 125
        },
        "outputId": "b10b4149-3a26-4ba2-b00d-29e8c5e21d59"
      },
      "source": [
        "s1.map(lambda x: x**2)"
      ],
      "execution_count": 13,
      "outputs": [
        {
          "output_type": "execute_result",
          "data": {
            "text/plain": [
              "0    1.850942\n",
              "1    3.238921\n",
              "2    0.028342\n",
              "3    0.131856\n",
              "4    2.574867\n",
              "dtype: float64"
            ]
          },
          "metadata": {
            "tags": []
          },
          "execution_count": 13
        }
      ]
    }
  ]
}