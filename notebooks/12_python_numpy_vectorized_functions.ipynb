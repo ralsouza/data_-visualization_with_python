{
  "nbformat": 4,
  "nbformat_minor": 0,
  "metadata": {
    "colab": {
      "name": "12_python_numpy_vectorized_functions.ipynb",
      "provenance": [],
      "collapsed_sections": [],
      "authorship_tag": "ABX9TyMmMnaeB71KKJPnnRhM4EdV",
      "include_colab_link": true
    },
    "kernelspec": {
      "name": "python3",
      "display_name": "Python 3"
    }
  },
  "cells": [
    {
      "cell_type": "markdown",
      "metadata": {
        "id": "view-in-github",
        "colab_type": "text"
      },
      "source": [
        "<a href=\"https://colab.research.google.com/github/ralsouza/data_visualization_with_python/blob/master/notebooks/12_python_numpy_vectorized_functions.ipynb\" target=\"_parent\"><img src=\"https://colab.research.google.com/assets/colab-badge.svg\" alt=\"Open In Colab\"/></a>"
      ]
    },
    {
      "cell_type": "code",
      "metadata": {
        "id": "OrxD9kxXK8mU",
        "colab_type": "code",
        "colab": {}
      },
      "source": [
        "import numpy as np"
      ],
      "execution_count": 0,
      "outputs": []
    },
    {
      "cell_type": "code",
      "metadata": {
        "id": "KroQ-PM_Lvtq",
        "colab_type": "code",
        "colab": {
          "base_uri": "https://localhost:8080/",
          "height": 51
        },
        "outputId": "16991e2a-d877-48ba-e1fc-b8c092768e23"
      },
      "source": [
        "# Making the array\n",
        "arr1 = np.random.randint(0,50,20); arr1"
      ],
      "execution_count": 6,
      "outputs": [
        {
          "output_type": "execute_result",
          "data": {
            "text/plain": [
              "array([44, 39, 28, 49, 41, 49,  2,  1, 14,  5, 39, 37, 41,  7, 25,  7, 27,\n",
              "       24, 17, 37])"
            ]
          },
          "metadata": {
            "tags": []
          },
          "execution_count": 6
        }
      ]
    },
    {
      "cell_type": "code",
      "metadata": {
        "id": "BZ6_pso2MAao",
        "colab_type": "code",
        "colab": {}
      },
      "source": [
        "# Making a function\n",
        "def calc_func(x):\n",
        "  if x < 10:\n",
        "    return x**3\n",
        "  else:\n",
        "    return x**2"
      ],
      "execution_count": 0,
      "outputs": []
    },
    {
      "cell_type": "code",
      "metadata": {
        "id": "Vq7jpyaYMXwu",
        "colab_type": "code",
        "colab": {
          "base_uri": "https://localhost:8080/",
          "height": 283
        },
        "outputId": "b641f486-40c9-43ec-81ca-ac47ba4f6ff2"
      },
      "source": [
        "# There is not possible to apply a function over an array, because this there are functions like map(), reduce(), etc...\n",
        "# To do this we'll use a vectorized function\n",
        "calc_func(arr1)"
      ],
      "execution_count": 8,
      "outputs": [
        {
          "output_type": "error",
          "ename": "ValueError",
          "evalue": "ignored",
          "traceback": [
            "\u001b[0;31m---------------------------------------------------------------------------\u001b[0m",
            "\u001b[0;31mValueError\u001b[0m                                Traceback (most recent call last)",
            "\u001b[0;32m<ipython-input-8-de55cde03b5e>\u001b[0m in \u001b[0;36m<module>\u001b[0;34m()\u001b[0m\n\u001b[0;32m----> 1\u001b[0;31m \u001b[0mcalc_func\u001b[0m\u001b[0;34m(\u001b[0m\u001b[0marr1\u001b[0m\u001b[0;34m)\u001b[0m\u001b[0;34m\u001b[0m\u001b[0;34m\u001b[0m\u001b[0m\n\u001b[0m",
            "\u001b[0;32m<ipython-input-7-55d592e34f51>\u001b[0m in \u001b[0;36mcalc_func\u001b[0;34m(x)\u001b[0m\n\u001b[1;32m      1\u001b[0m \u001b[0;32mdef\u001b[0m \u001b[0mcalc_func\u001b[0m\u001b[0;34m(\u001b[0m\u001b[0mx\u001b[0m\u001b[0;34m)\u001b[0m\u001b[0;34m:\u001b[0m\u001b[0;34m\u001b[0m\u001b[0;34m\u001b[0m\u001b[0m\n\u001b[0;32m----> 2\u001b[0;31m   \u001b[0;32mif\u001b[0m \u001b[0mx\u001b[0m \u001b[0;34m<\u001b[0m \u001b[0;36m10\u001b[0m\u001b[0;34m:\u001b[0m\u001b[0;34m\u001b[0m\u001b[0;34m\u001b[0m\u001b[0m\n\u001b[0m\u001b[1;32m      3\u001b[0m     \u001b[0;32mreturn\u001b[0m \u001b[0mx\u001b[0m\u001b[0;34m**\u001b[0m\u001b[0;36m3\u001b[0m\u001b[0;34m\u001b[0m\u001b[0;34m\u001b[0m\u001b[0m\n\u001b[1;32m      4\u001b[0m   \u001b[0;32melse\u001b[0m\u001b[0;34m:\u001b[0m\u001b[0;34m\u001b[0m\u001b[0;34m\u001b[0m\u001b[0m\n\u001b[1;32m      5\u001b[0m     \u001b[0;32mreturn\u001b[0m \u001b[0mx\u001b[0m\u001b[0;34m**\u001b[0m\u001b[0;36m2\u001b[0m\u001b[0;34m\u001b[0m\u001b[0;34m\u001b[0m\u001b[0m\n",
            "\u001b[0;31mValueError\u001b[0m: The truth value of an array with more than one element is ambiguous. Use a.any() or a.all()"
          ]
        }
      ]
    },
    {
      "cell_type": "code",
      "metadata": {
        "id": "S-7VcFAzMeFJ",
        "colab_type": "code",
        "colab": {}
      },
      "source": [
        "# Define a vectorized function which takes a nested sequence of objects or numpy arrays as inputs and \n",
        "# returns a single numpy array or a tuple of numpy arrays\n",
        "?np.vectorize"
      ],
      "execution_count": 0,
      "outputs": []
    },
    {
      "cell_type": "code",
      "metadata": {
        "id": "PHOZGc6kNRYL",
        "colab_type": "code",
        "colab": {}
      },
      "source": [
        "# Vectorizing the function calc_func()\n",
        "vec_calc_func = np.vectorize(calc_func)"
      ],
      "execution_count": 0,
      "outputs": []
    },
    {
      "cell_type": "code",
      "metadata": {
        "id": "rJRCsz_VSl91",
        "colab_type": "code",
        "colab": {
          "base_uri": "https://localhost:8080/",
          "height": 34
        },
        "outputId": "1505faf6-9eda-465e-8e14-f447ca10c0fd"
      },
      "source": [
        "# Check Type\n",
        "type(vec_calc_func)"
      ],
      "execution_count": 11,
      "outputs": [
        {
          "output_type": "execute_result",
          "data": {
            "text/plain": [
              "numpy.vectorize"
            ]
          },
          "metadata": {
            "tags": []
          },
          "execution_count": 11
        }
      ]
    },
    {
      "cell_type": "code",
      "metadata": {
        "id": "dpY2bai2Sp2N",
        "colab_type": "code",
        "colab": {
          "base_uri": "https://localhost:8080/",
          "height": 51
        },
        "outputId": "5e87f123-bdab-4b3d-91b9-b9127b8c5408"
      },
      "source": [
        "# Apply the vectorized function over the array, returnin an array\n",
        "vec_calc_func(arr1)"
      ],
      "execution_count": 12,
      "outputs": [
        {
          "output_type": "execute_result",
          "data": {
            "text/plain": [
              "array([1936, 1521,  784, 2401, 1681, 2401,    8,    1,  196,  125, 1521,\n",
              "       1369, 1681,  343,  625,  343,  729,  576,  289, 1369])"
            ]
          },
          "metadata": {
            "tags": []
          },
          "execution_count": 12
        }
      ]
    },
    {
      "cell_type": "code",
      "metadata": {
        "id": "YZufGR98S31M",
        "colab_type": "code",
        "colab": {
          "base_uri": "https://localhost:8080/",
          "height": 357
        },
        "outputId": "bfd220df-4c30-445b-d4c7-33fe125d86ec"
      },
      "source": [
        "# Making the same with map() function, but returning a list of values\n",
        "list(map(calc_func,arr1))"
      ],
      "execution_count": 13,
      "outputs": [
        {
          "output_type": "execute_result",
          "data": {
            "text/plain": [
              "[1936,\n",
              " 1521,\n",
              " 784,\n",
              " 2401,\n",
              " 1681,\n",
              " 2401,\n",
              " 8,\n",
              " 1,\n",
              " 196,\n",
              " 125,\n",
              " 1521,\n",
              " 1369,\n",
              " 1681,\n",
              " 343,\n",
              " 625,\n",
              " 343,\n",
              " 729,\n",
              " 576,\n",
              " 289,\n",
              " 1369]"
            ]
          },
          "metadata": {
            "tags": []
          },
          "execution_count": 13
        }
      ]
    },
    {
      "cell_type": "code",
      "metadata": {
        "id": "q6M9ou33THMb",
        "colab_type": "code",
        "colab": {
          "base_uri": "https://localhost:8080/",
          "height": 357
        },
        "outputId": "2856e503-20cd-457d-9323-7d93cd946a28"
      },
      "source": [
        "# Using with list comprehension, returning a list\n",
        "# FOR each item of x, apply the function calc_func IN arr1\n",
        "[calc_func(x) for x in arr1]"
      ],
      "execution_count": 14,
      "outputs": [
        {
          "output_type": "execute_result",
          "data": {
            "text/plain": [
              "[1936,\n",
              " 1521,\n",
              " 784,\n",
              " 2401,\n",
              " 1681,\n",
              " 2401,\n",
              " 8,\n",
              " 1,\n",
              " 196,\n",
              " 125,\n",
              " 1521,\n",
              " 1369,\n",
              " 1681,\n",
              " 343,\n",
              " 625,\n",
              " 343,\n",
              " 729,\n",
              " 576,\n",
              " 289,\n",
              " 1369]"
            ]
          },
          "metadata": {
            "tags": []
          },
          "execution_count": 14
        }
      ]
    },
    {
      "cell_type": "markdown",
      "metadata": {
        "id": "HKnn_9ZmUWnN",
        "colab_type": "text"
      },
      "source": [
        "# Measuring the performance between three methods\n"
      ]
    },
    {
      "cell_type": "code",
      "metadata": {
        "id": "FqHwHf4IUBhx",
        "colab_type": "code",
        "colab": {
          "base_uri": "https://localhost:8080/",
          "height": 85
        },
        "outputId": "01e0fb27-c0b2-4674-cd3d-0a5a2d1cdb58"
      },
      "source": [
        "# Vectorized function\n",
        "%timeit vec_calc_func(arr1)\n",
        "\n",
        "# List Comprehension\n",
        "%timeit [calc_func(x) for x in arr1]\n",
        "\n",
        "# map() function\n",
        "%timeit list(map(calc_func,arr1))"
      ],
      "execution_count": 15,
      "outputs": [
        {
          "output_type": "stream",
          "text": [
            "The slowest run took 16.18 times longer than the fastest. This could mean that an intermediate result is being cached.\n",
            "100000 loops, best of 3: 19.4 µs per loop\n",
            "100000 loops, best of 3: 12.7 µs per loop\n",
            "100000 loops, best of 3: 12.5 µs per loop\n"
          ],
          "name": "stdout"
        }
      ]
    },
    {
      "cell_type": "markdown",
      "metadata": {
        "id": "Q8vrPi9ZVF4C",
        "colab_type": "text"
      },
      "source": [
        "Vectorized functions appear slower than others, but with more data..."
      ]
    },
    {
      "cell_type": "code",
      "metadata": {
        "id": "wzEDuIFgUy5g",
        "colab_type": "code",
        "colab": {
          "base_uri": "https://localhost:8080/",
          "height": 34
        },
        "outputId": "063899e1-96cd-452d-9166-03f439838a82"
      },
      "source": [
        "# Making an array the more data\n",
        "arr2 = np.random.randint(0,100,20*1000); arr2"
      ],
      "execution_count": 16,
      "outputs": [
        {
          "output_type": "execute_result",
          "data": {
            "text/plain": [
              "array([44, 97, 95, ..., 96,  8, 18])"
            ]
          },
          "metadata": {
            "tags": []
          },
          "execution_count": 16
        }
      ]
    },
    {
      "cell_type": "code",
      "metadata": {
        "id": "JGqcNOEFWarv",
        "colab_type": "code",
        "colab": {
          "base_uri": "https://localhost:8080/",
          "height": 68
        },
        "outputId": "7ab2e7af-f2aa-4401-b239-9a2e9c631bdb"
      },
      "source": [
        "# Vectorized function\n",
        "%timeit vec_calc_func(arr2)\n",
        "\n",
        "# List Comprehension\n",
        "%timeit [calc_func(x) for x in arr2]\n",
        "\n",
        "# map() function\n",
        "%timeit list(map(calc_func,arr2))"
      ],
      "execution_count": 17,
      "outputs": [
        {
          "output_type": "stream",
          "text": [
            "100 loops, best of 3: 7.22 ms per loop\n",
            "100 loops, best of 3: 12.1 ms per loop\n",
            "100 loops, best of 3: 11.6 ms per loop\n"
          ],
          "name": "stdout"
        }
      ]
    },
    {
      "cell_type": "markdown",
      "metadata": {
        "id": "Wrxa9vyvaU5J",
        "colab_type": "text"
      },
      "source": [
        "This time the vectorized function was faster than others"
      ]
    }
  ]
}