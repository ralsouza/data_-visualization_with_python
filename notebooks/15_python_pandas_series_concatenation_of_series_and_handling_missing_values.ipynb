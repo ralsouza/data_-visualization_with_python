{
  "nbformat": 4,
  "nbformat_minor": 0,
  "metadata": {
    "colab": {
      "name": "15_python_pandas_series_concatenation_of_series_and_handling_missing_values.ipynb",
      "provenance": [],
      "collapsed_sections": [],
      "authorship_tag": "ABX9TyPWJi+57rpDMr0MY6SI1DFV",
      "include_colab_link": true
    },
    "kernelspec": {
      "name": "python3",
      "display_name": "Python 3"
    }
  },
  "cells": [
    {
      "cell_type": "markdown",
      "metadata": {
        "id": "view-in-github",
        "colab_type": "text"
      },
      "source": [
        "<a href=\"https://colab.research.google.com/github/ralsouza/data_visualization_with_python/blob/master/notebooks/15_python_pandas_series_concatenation_of_series_and_handling_missing_values.ipynb\" target=\"_parent\"><img src=\"https://colab.research.google.com/assets/colab-badge.svg\" alt=\"Open In Colab\"/></a>"
      ]
    },
    {
      "cell_type": "markdown",
      "metadata": {
        "id": "qZXqUarsRlvs",
        "colab_type": "text"
      },
      "source": [
        "#Concatenating Series"
      ]
    },
    {
      "cell_type": "code",
      "metadata": {
        "id": "veUQhZnbRtPd",
        "colab_type": "code",
        "colab": {}
      },
      "source": [
        "import pandas as pd\n",
        "import numpy as np"
      ],
      "execution_count": 0,
      "outputs": []
    },
    {
      "cell_type": "code",
      "metadata": {
        "id": "LJMPvy7PQ4Dw",
        "colab_type": "code",
        "colab": {
          "base_uri": "https://localhost:8080/",
          "height": 125
        },
        "outputId": "c0546d72-1833-446b-9c76-93dadb0a6706"
      },
      "source": [
        "# Makgin a Pandas Serie\n",
        "S1 = pd.Series(np.random.rand(5)); S1"
      ],
      "execution_count": 2,
      "outputs": [
        {
          "output_type": "execute_result",
          "data": {
            "text/plain": [
              "0    0.310670\n",
              "1    0.867929\n",
              "2    0.916383\n",
              "3    0.931199\n",
              "4    0.290458\n",
              "dtype: float64"
            ]
          },
          "metadata": {
            "tags": []
          },
          "execution_count": 2
        }
      ]
    },
    {
      "cell_type": "code",
      "metadata": {
        "id": "zE_dllWTR6hJ",
        "colab_type": "code",
        "colab": {
          "base_uri": "https://localhost:8080/",
          "height": 125
        },
        "outputId": "e8a9fc1a-82c4-4941-a534-3156d60a4626"
      },
      "source": [
        "# Making another\n",
        "S2 = pd.Series(np.random.rand(5)); S2"
      ],
      "execution_count": 3,
      "outputs": [
        {
          "output_type": "execute_result",
          "data": {
            "text/plain": [
              "0    0.573315\n",
              "1    0.864410\n",
              "2    0.128323\n",
              "3    0.327446\n",
              "4    0.313207\n",
              "dtype: float64"
            ]
          },
          "metadata": {
            "tags": []
          },
          "execution_count": 3
        }
      ]
    },
    {
      "cell_type": "code",
      "metadata": {
        "id": "zi_8ve8HSLvS",
        "colab_type": "code",
        "colab": {
          "base_uri": "https://localhost:8080/",
          "height": 215
        },
        "outputId": "26892886-f6e8-48ce-b5bf-e4d17fc5eba6"
      },
      "source": [
        "# Concatenating both pandas series\n",
        "# Note the indexes, there is a problem!\n",
        "S3 = pd.concat([S1,S2]); S3"
      ],
      "execution_count": 4,
      "outputs": [
        {
          "output_type": "execute_result",
          "data": {
            "text/plain": [
              "0    0.310670\n",
              "1    0.867929\n",
              "2    0.916383\n",
              "3    0.931199\n",
              "4    0.290458\n",
              "0    0.573315\n",
              "1    0.864410\n",
              "2    0.128323\n",
              "3    0.327446\n",
              "4    0.313207\n",
              "dtype: float64"
            ]
          },
          "metadata": {
            "tags": []
          },
          "execution_count": 4
        }
      ]
    },
    {
      "cell_type": "code",
      "metadata": {
        "id": "cgCEOgRZSuCl",
        "colab_type": "code",
        "colab": {
          "base_uri": "https://localhost:8080/",
          "height": 71
        },
        "outputId": "4744fe71-6f2b-4a2e-d60b-ca1d1ab49217"
      },
      "source": [
        "# Check the problem, there are two indexes with same value\n",
        "S3[0]"
      ],
      "execution_count": 5,
      "outputs": [
        {
          "output_type": "execute_result",
          "data": {
            "text/plain": [
              "0    0.310670\n",
              "0    0.573315\n",
              "dtype: float64"
            ]
          },
          "metadata": {
            "tags": []
          },
          "execution_count": 5
        }
      ]
    },
    {
      "cell_type": "code",
      "metadata": {
        "id": "HCDXDrJpTDBJ",
        "colab_type": "code",
        "colab": {
          "base_uri": "https://localhost:8080/",
          "height": 215
        },
        "outputId": "9a7678ba-7753-4e80-d59d-31304ab307d3"
      },
      "source": [
        "# Solving the problem\n",
        "S3.index = range(S3.count()); S3"
      ],
      "execution_count": 6,
      "outputs": [
        {
          "output_type": "execute_result",
          "data": {
            "text/plain": [
              "0    0.310670\n",
              "1    0.867929\n",
              "2    0.916383\n",
              "3    0.931199\n",
              "4    0.290458\n",
              "5    0.573315\n",
              "6    0.864410\n",
              "7    0.128323\n",
              "8    0.327446\n",
              "9    0.313207\n",
              "dtype: float64"
            ]
          },
          "metadata": {
            "tags": []
          },
          "execution_count": 6
        }
      ]
    },
    {
      "cell_type": "code",
      "metadata": {
        "id": "m7JyRy9ATUlf",
        "colab_type": "code",
        "colab": {
          "base_uri": "https://localhost:8080/",
          "height": 107
        },
        "outputId": "5c35d670-e8b3-4502-b1cc-93459020ce0a"
      },
      "source": [
        "# Reindexing the pandas series\n",
        "# Note that the indexes 16 and 21 don't exist, so pandas will define them as NaN values\n",
        "S3.reindex([0,2,16,21])"
      ],
      "execution_count": 7,
      "outputs": [
        {
          "output_type": "execute_result",
          "data": {
            "text/plain": [
              "0     0.310670\n",
              "2     0.916383\n",
              "16         NaN\n",
              "21         NaN\n",
              "dtype: float64"
            ]
          },
          "metadata": {
            "tags": []
          },
          "execution_count": 7
        }
      ]
    },
    {
      "cell_type": "code",
      "metadata": {
        "id": "zg6o7Fd0UmnM",
        "colab_type": "code",
        "colab": {
          "base_uri": "https://localhost:8080/",
          "height": 107
        },
        "outputId": "4ef301eb-0a24-41cb-f406-8307c612c79a"
      },
      "source": [
        "# We can fill the indexes with some value\n",
        "S3.reindex([0,2,16,21], fill_value=0)"
      ],
      "execution_count": 8,
      "outputs": [
        {
          "output_type": "execute_result",
          "data": {
            "text/plain": [
              "0     0.310670\n",
              "2     0.916383\n",
              "16    0.000000\n",
              "21    0.000000\n",
              "dtype: float64"
            ]
          },
          "metadata": {
            "tags": []
          },
          "execution_count": 8
        }
      ]
    },
    {
      "cell_type": "code",
      "metadata": {
        "id": "q3Fw1TjdU6T0",
        "colab_type": "code",
        "colab": {
          "base_uri": "https://localhost:8080/",
          "height": 107
        },
        "outputId": "be5a540d-5ecd-48c6-8bb0-2370d90c62e6"
      },
      "source": [
        "# Filling the indexes \n",
        "S4 = S3.reindex([0,2,16,21]); S4"
      ],
      "execution_count": 10,
      "outputs": [
        {
          "output_type": "execute_result",
          "data": {
            "text/plain": [
              "0     0.310670\n",
              "2     0.916383\n",
              "16         NaN\n",
              "21         NaN\n",
              "dtype: float64"
            ]
          },
          "metadata": {
            "tags": []
          },
          "execution_count": 10
        }
      ]
    },
    {
      "cell_type": "code",
      "metadata": {
        "id": "x11q_vvrVXQG",
        "colab_type": "code",
        "colab": {
          "base_uri": "https://localhost:8080/",
          "height": 107
        },
        "outputId": "19610b70-31c3-401c-fd82-21bd7a4da035"
      },
      "source": [
        "# Filling forward with the last valid value\n",
        "S4.ffill()"
      ],
      "execution_count": 11,
      "outputs": [
        {
          "output_type": "execute_result",
          "data": {
            "text/plain": [
              "0     0.310670\n",
              "2     0.916383\n",
              "16    0.916383\n",
              "21    0.916383\n",
              "dtype: float64"
            ]
          },
          "metadata": {
            "tags": []
          },
          "execution_count": 11
        }
      ]
    },
    {
      "cell_type": "code",
      "metadata": {
        "id": "1B_GnYSxVuRX",
        "colab_type": "code",
        "colab": {
          "base_uri": "https://localhost:8080/",
          "height": 107
        },
        "outputId": "701670bf-1f88-415c-abb7-c57c7e2cf1d0"
      },
      "source": [
        "# Filling back\n",
        "S4.bfill()"
      ],
      "execution_count": 12,
      "outputs": [
        {
          "output_type": "execute_result",
          "data": {
            "text/plain": [
              "0     0.310670\n",
              "2     0.916383\n",
              "16         NaN\n",
              "21         NaN\n",
              "dtype: float64"
            ]
          },
          "metadata": {
            "tags": []
          },
          "execution_count": 12
        }
      ]
    },
    {
      "cell_type": "code",
      "metadata": {
        "id": "eswHtfbWVywP",
        "colab_type": "code",
        "colab": {
          "base_uri": "https://localhost:8080/",
          "height": 107
        },
        "outputId": "c2cd7b80-903d-4dbf-c41a-82c6a8af5e1b"
      },
      "source": [
        "# Filling NaN with a specific value\n",
        "S4.fillna(12)"
      ],
      "execution_count": 13,
      "outputs": [
        {
          "output_type": "execute_result",
          "data": {
            "text/plain": [
              "0      0.310670\n",
              "2      0.916383\n",
              "16    12.000000\n",
              "21    12.000000\n",
              "dtype: float64"
            ]
          },
          "metadata": {
            "tags": []
          },
          "execution_count": 13
        }
      ]
    }
  ]
}