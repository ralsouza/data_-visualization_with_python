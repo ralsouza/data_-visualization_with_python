{
  "nbformat": 4,
  "nbformat_minor": 0,
  "metadata": {
    "colab": {
      "name": "03_python_reduce_function.ipynb",
      "provenance": [],
      "collapsed_sections": [],
      "authorship_tag": "ABX9TyPbaaXBsttWj7rOto5ZXXAV",
      "include_colab_link": true
    },
    "kernelspec": {
      "name": "python3",
      "display_name": "Python 3"
    }
  },
  "cells": [
    {
      "cell_type": "markdown",
      "metadata": {
        "id": "view-in-github",
        "colab_type": "text"
      },
      "source": [
        "<a href=\"https://colab.research.google.com/github/ralsouza/data_visualization_with_python/blob/master/notebooks/03_python_reduce_function.ipynb\" target=\"_parent\"><img src=\"https://colab.research.google.com/assets/colab-badge.svg\" alt=\"Open In Colab\"/></a>"
      ]
    },
    {
      "cell_type": "markdown",
      "metadata": {
        "id": "Q6e35zqunt3v",
        "colab_type": "text"
      },
      "source": [
        "# Reduce \n",
        "This function applies a function to a sequence of elements, until it reduces the sequence to a single element."
      ]
    },
    {
      "cell_type": "code",
      "metadata": {
        "id": "VFzi_BevnkWl",
        "colab_type": "code",
        "colab": {}
      },
      "source": [
        "# Reduce needs to be imported separately\n",
        "from functools import reduce"
      ],
      "execution_count": 0,
      "outputs": []
    },
    {
      "cell_type": "code",
      "metadata": {
        "id": "MRHFToQlo7VI",
        "colab_type": "code",
        "colab": {}
      },
      "source": [
        "sum = reduce((lambda x,y: x+y), [1,2,3,4])"
      ],
      "execution_count": 0,
      "outputs": []
    },
    {
      "cell_type": "code",
      "metadata": {
        "id": "bHNobT_6pIOl",
        "colab_type": "code",
        "colab": {
          "base_uri": "https://localhost:8080/",
          "height": 34
        },
        "outputId": "95cf5bc2-dc0b-4d86-fd30-cbdc392dc42a"
      },
      "source": [
        "# The values are reduced to a single value\n",
        "sum"
      ],
      "execution_count": 4,
      "outputs": [
        {
          "output_type": "execute_result",
          "data": {
            "text/plain": [
              "10"
            ]
          },
          "metadata": {
            "tags": []
          },
          "execution_count": 4
        }
      ]
    }
  ]
}